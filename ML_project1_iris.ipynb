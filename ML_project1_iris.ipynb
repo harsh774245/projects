{
 "cells": [
  {
   "cell_type": "code",
   "execution_count": 1,
   "metadata": {},
   "outputs": [],
   "source": [
    "import numpy as np\n",
    "import pandas as pd\n",
    "import matplotlib.pyplot as plt\n",
    "import seaborn as sns\n",
    "%matplotlib inline"
   ]
  },
  {
   "cell_type": "code",
   "execution_count": 48,
   "metadata": {},
   "outputs": [],
   "source": [
    "from scipy.stats import zscore"
   ]
  },
  {
   "cell_type": "code",
   "execution_count": 64,
   "metadata": {},
   "outputs": [],
   "source": [
    "from sklearn.preprocessing import LabelEncoder, OneHotEncoder"
   ]
  },
  {
   "cell_type": "code",
   "execution_count": 69,
   "metadata": {},
   "outputs": [],
   "source": [
    "from sklearn.preprocessing import StandardScaler"
   ]
  },
  {
   "cell_type": "code",
   "execution_count": 3,
   "metadata": {},
   "outputs": [],
   "source": [
    "import warnings\n",
    "warnings.filterwarnings('ignore')"
   ]
  },
  {
   "cell_type": "code",
   "execution_count": 4,
   "metadata": {},
   "outputs": [],
   "source": [
    "iris=pd.read_csv('iris.csv')"
   ]
  },
  {
   "cell_type": "code",
   "execution_count": 5,
   "metadata": {},
   "outputs": [
    {
     "data": {
      "text/html": [
       "<div>\n",
       "<style scoped>\n",
       "    .dataframe tbody tr th:only-of-type {\n",
       "        vertical-align: middle;\n",
       "    }\n",
       "\n",
       "    .dataframe tbody tr th {\n",
       "        vertical-align: top;\n",
       "    }\n",
       "\n",
       "    .dataframe thead th {\n",
       "        text-align: right;\n",
       "    }\n",
       "</style>\n",
       "<table border=\"1\" class=\"dataframe\">\n",
       "  <thead>\n",
       "    <tr style=\"text-align: right;\">\n",
       "      <th></th>\n",
       "      <th>sepal length</th>\n",
       "      <th>sepal width</th>\n",
       "      <th>petal length</th>\n",
       "      <th>petal width</th>\n",
       "      <th>class</th>\n",
       "    </tr>\n",
       "  </thead>\n",
       "  <tbody>\n",
       "    <tr>\n",
       "      <td>0</td>\n",
       "      <td>5.1</td>\n",
       "      <td>3.5</td>\n",
       "      <td>1.4</td>\n",
       "      <td>0.2</td>\n",
       "      <td>Iris-setosa</td>\n",
       "    </tr>\n",
       "    <tr>\n",
       "      <td>1</td>\n",
       "      <td>4.9</td>\n",
       "      <td>3.0</td>\n",
       "      <td>1.4</td>\n",
       "      <td>0.2</td>\n",
       "      <td>Iris-setosa</td>\n",
       "    </tr>\n",
       "    <tr>\n",
       "      <td>2</td>\n",
       "      <td>4.7</td>\n",
       "      <td>3.2</td>\n",
       "      <td>1.3</td>\n",
       "      <td>0.2</td>\n",
       "      <td>Iris-setosa</td>\n",
       "    </tr>\n",
       "    <tr>\n",
       "      <td>3</td>\n",
       "      <td>4.6</td>\n",
       "      <td>3.1</td>\n",
       "      <td>1.5</td>\n",
       "      <td>0.2</td>\n",
       "      <td>Iris-setosa</td>\n",
       "    </tr>\n",
       "    <tr>\n",
       "      <td>4</td>\n",
       "      <td>5.0</td>\n",
       "      <td>3.6</td>\n",
       "      <td>1.4</td>\n",
       "      <td>0.2</td>\n",
       "      <td>Iris-setosa</td>\n",
       "    </tr>\n",
       "  </tbody>\n",
       "</table>\n",
       "</div>"
      ],
      "text/plain": [
       "   sepal length  sepal width  petal length  petal width        class\n",
       "0           5.1          3.5           1.4          0.2  Iris-setosa\n",
       "1           4.9          3.0           1.4          0.2  Iris-setosa\n",
       "2           4.7          3.2           1.3          0.2  Iris-setosa\n",
       "3           4.6          3.1           1.5          0.2  Iris-setosa\n",
       "4           5.0          3.6           1.4          0.2  Iris-setosa"
      ]
     },
     "execution_count": 5,
     "metadata": {},
     "output_type": "execute_result"
    }
   ],
   "source": [
    "iris.head()"
   ]
  },
  {
   "cell_type": "markdown",
   "metadata": {},
   "source": [
    "# Basic EDA"
   ]
  },
  {
   "cell_type": "code",
   "execution_count": 6,
   "metadata": {},
   "outputs": [
    {
     "data": {
      "text/plain": [
       "(150, 5)"
      ]
     },
     "execution_count": 6,
     "metadata": {},
     "output_type": "execute_result"
    }
   ],
   "source": [
    "iris.shape"
   ]
  },
  {
   "cell_type": "code",
   "execution_count": 7,
   "metadata": {},
   "outputs": [
    {
     "data": {
      "text/plain": [
       "Index(['sepal length', 'sepal width', 'petal length', 'petal width', 'class'], dtype='object')"
      ]
     },
     "execution_count": 7,
     "metadata": {},
     "output_type": "execute_result"
    }
   ],
   "source": [
    "iris.columns"
   ]
  },
  {
   "cell_type": "code",
   "execution_count": 8,
   "metadata": {},
   "outputs": [
    {
     "data": {
      "text/plain": [
       "sepal length    float64\n",
       "sepal width     float64\n",
       "petal length    float64\n",
       "petal width     float64\n",
       "class            object\n",
       "dtype: object"
      ]
     },
     "execution_count": 8,
     "metadata": {},
     "output_type": "execute_result"
    }
   ],
   "source": [
    "iris.dtypes"
   ]
  },
  {
   "cell_type": "markdown",
   "metadata": {},
   "source": [
    "the target is class which is categorical so this is a classification problem\n",
    "\n",
    "The dependent variable only is categorical, rest are continuos"
   ]
  },
  {
   "cell_type": "code",
   "execution_count": 9,
   "metadata": {},
   "outputs": [
    {
     "name": "stdout",
     "output_type": "stream",
     "text": [
      "<class 'pandas.core.frame.DataFrame'>\n",
      "RangeIndex: 150 entries, 0 to 149\n",
      "Data columns (total 5 columns):\n",
      "sepal length    150 non-null float64\n",
      "sepal width     150 non-null float64\n",
      "petal length    150 non-null float64\n",
      "petal width     150 non-null float64\n",
      "class           150 non-null object\n",
      "dtypes: float64(4), object(1)\n",
      "memory usage: 6.0+ KB\n"
     ]
    }
   ],
   "source": [
    "iris.info()"
   ]
  },
  {
   "cell_type": "code",
   "execution_count": 10,
   "metadata": {},
   "outputs": [
    {
     "data": {
      "text/html": [
       "<div>\n",
       "<style scoped>\n",
       "    .dataframe tbody tr th:only-of-type {\n",
       "        vertical-align: middle;\n",
       "    }\n",
       "\n",
       "    .dataframe tbody tr th {\n",
       "        vertical-align: top;\n",
       "    }\n",
       "\n",
       "    .dataframe thead th {\n",
       "        text-align: right;\n",
       "    }\n",
       "</style>\n",
       "<table border=\"1\" class=\"dataframe\">\n",
       "  <thead>\n",
       "    <tr style=\"text-align: right;\">\n",
       "      <th></th>\n",
       "      <th>sepal length</th>\n",
       "      <th>sepal width</th>\n",
       "      <th>petal length</th>\n",
       "      <th>petal width</th>\n",
       "    </tr>\n",
       "  </thead>\n",
       "  <tbody>\n",
       "    <tr>\n",
       "      <td>count</td>\n",
       "      <td>150.000000</td>\n",
       "      <td>150.000000</td>\n",
       "      <td>150.000000</td>\n",
       "      <td>150.000000</td>\n",
       "    </tr>\n",
       "    <tr>\n",
       "      <td>mean</td>\n",
       "      <td>5.843333</td>\n",
       "      <td>3.054000</td>\n",
       "      <td>3.758667</td>\n",
       "      <td>1.198667</td>\n",
       "    </tr>\n",
       "    <tr>\n",
       "      <td>std</td>\n",
       "      <td>0.828066</td>\n",
       "      <td>0.433594</td>\n",
       "      <td>1.764420</td>\n",
       "      <td>0.763161</td>\n",
       "    </tr>\n",
       "    <tr>\n",
       "      <td>min</td>\n",
       "      <td>4.300000</td>\n",
       "      <td>2.000000</td>\n",
       "      <td>1.000000</td>\n",
       "      <td>0.100000</td>\n",
       "    </tr>\n",
       "    <tr>\n",
       "      <td>25%</td>\n",
       "      <td>5.100000</td>\n",
       "      <td>2.800000</td>\n",
       "      <td>1.600000</td>\n",
       "      <td>0.300000</td>\n",
       "    </tr>\n",
       "    <tr>\n",
       "      <td>50%</td>\n",
       "      <td>5.800000</td>\n",
       "      <td>3.000000</td>\n",
       "      <td>4.350000</td>\n",
       "      <td>1.300000</td>\n",
       "    </tr>\n",
       "    <tr>\n",
       "      <td>75%</td>\n",
       "      <td>6.400000</td>\n",
       "      <td>3.300000</td>\n",
       "      <td>5.100000</td>\n",
       "      <td>1.800000</td>\n",
       "    </tr>\n",
       "    <tr>\n",
       "      <td>max</td>\n",
       "      <td>7.900000</td>\n",
       "      <td>4.400000</td>\n",
       "      <td>6.900000</td>\n",
       "      <td>2.500000</td>\n",
       "    </tr>\n",
       "  </tbody>\n",
       "</table>\n",
       "</div>"
      ],
      "text/plain": [
       "       sepal length  sepal width  petal length  petal width\n",
       "count    150.000000   150.000000    150.000000   150.000000\n",
       "mean       5.843333     3.054000      3.758667     1.198667\n",
       "std        0.828066     0.433594      1.764420     0.763161\n",
       "min        4.300000     2.000000      1.000000     0.100000\n",
       "25%        5.100000     2.800000      1.600000     0.300000\n",
       "50%        5.800000     3.000000      4.350000     1.300000\n",
       "75%        6.400000     3.300000      5.100000     1.800000\n",
       "max        7.900000     4.400000      6.900000     2.500000"
      ]
     },
     "execution_count": 10,
     "metadata": {},
     "output_type": "execute_result"
    }
   ],
   "source": [
    "iris.describe()"
   ]
  },
  {
   "cell_type": "markdown",
   "metadata": {},
   "source": [
    "here we can see that there are no null values:\n",
    "\n",
    "outliers may be in petal length"
   ]
  },
  {
   "cell_type": "markdown",
   "metadata": {},
   "source": [
    "# Variable Identification"
   ]
  },
  {
   "cell_type": "code",
   "execution_count": 16,
   "metadata": {},
   "outputs": [
    {
     "name": "stdout",
     "output_type": "stream",
     "text": [
      "3\n",
      "['Iris-setosa' 'Iris-versicolor' 'Iris-virginica']\n",
      "Iris-versicolor    50\n",
      "Iris-virginica     50\n",
      "Iris-setosa        50\n",
      "Name: class, dtype: int64\n"
     ]
    }
   ],
   "source": [
    "print(iris['class'].nunique())\n",
    "print(iris['class'].unique())\n",
    "print(iris['class'].value_counts())"
   ]
  },
  {
   "cell_type": "code",
   "execution_count": 22,
   "metadata": {},
   "outputs": [
    {
     "name": "stdout",
     "output_type": "stream",
     "text": [
      "35\n",
      "[5.1 4.9 4.7 4.6 5.  5.4 4.4 4.8 4.3 5.8 5.7 5.2 5.5 4.5 5.3 7.  6.4 6.9\n",
      " 6.5 6.3 6.6 5.9 6.  6.1 5.6 6.7 6.2 6.8 7.1 7.6 7.3 7.2 7.7 7.4 7.9]\n",
      "5.0    10\n",
      "6.3     9\n",
      "5.1     9\n",
      "6.7     8\n",
      "5.7     8\n",
      "5.5     7\n",
      "5.8     7\n",
      "6.4     7\n",
      "6.0     6\n",
      "4.9     6\n",
      "6.1     6\n",
      "5.4     6\n",
      "5.6     6\n",
      "6.5     5\n",
      "4.8     5\n",
      "7.7     4\n",
      "6.9     4\n",
      "5.2     4\n",
      "6.2     4\n",
      "4.6     4\n",
      "7.2     3\n",
      "6.8     3\n",
      "4.4     3\n",
      "5.9     3\n",
      "6.6     2\n",
      "4.7     2\n",
      "7.6     1\n",
      "7.4     1\n",
      "4.3     1\n",
      "7.9     1\n",
      "7.3     1\n",
      "7.0     1\n",
      "4.5     1\n",
      "5.3     1\n",
      "7.1     1\n",
      "Name: sepal length, dtype: int64\n"
     ]
    }
   ],
   "source": [
    "print(iris['sepal length'].nunique())\n",
    "print(iris['sepal length'].unique())\n",
    "print(iris['sepal length'].value_counts())"
   ]
  },
  {
   "cell_type": "code",
   "execution_count": 21,
   "metadata": {},
   "outputs": [
    {
     "name": "stdout",
     "output_type": "stream",
     "text": [
      "43\n",
      "[1.4 1.3 1.5 1.7 1.6 1.1 1.2 1.  1.9 4.7 4.5 4.9 4.  4.6 3.3 3.9 3.5 4.2\n",
      " 3.6 4.4 4.1 4.8 4.3 5.  3.8 3.7 5.1 3.  6.  5.9 5.6 5.8 6.6 6.3 6.1 5.3\n",
      " 5.5 6.7 6.9 5.7 6.4 5.4 5.2]\n",
      "1.5    14\n",
      "1.4    12\n",
      "5.1     8\n",
      "4.5     8\n",
      "1.3     7\n",
      "1.6     7\n",
      "5.6     6\n",
      "4.0     5\n",
      "4.9     5\n",
      "4.7     5\n",
      "4.8     4\n",
      "1.7     4\n",
      "4.4     4\n",
      "4.2     4\n",
      "5.0     4\n",
      "4.1     3\n",
      "5.5     3\n",
      "4.6     3\n",
      "6.1     3\n",
      "5.7     3\n",
      "3.9     3\n",
      "5.8     3\n",
      "1.2     2\n",
      "1.9     2\n",
      "6.7     2\n",
      "3.5     2\n",
      "5.9     2\n",
      "6.0     2\n",
      "5.4     2\n",
      "5.3     2\n",
      "3.3     2\n",
      "4.3     2\n",
      "5.2     2\n",
      "6.3     1\n",
      "1.1     1\n",
      "6.4     1\n",
      "3.6     1\n",
      "3.7     1\n",
      "3.0     1\n",
      "3.8     1\n",
      "6.6     1\n",
      "6.9     1\n",
      "1.0     1\n",
      "Name: petal length, dtype: int64\n"
     ]
    }
   ],
   "source": [
    "print(iris['petal length'].nunique())\n",
    "print(iris['petal length'].unique())\n",
    "print(iris['petal length'].value_counts())"
   ]
  },
  {
   "cell_type": "code",
   "execution_count": 23,
   "metadata": {
    "scrolled": true
   },
   "outputs": [
    {
     "name": "stdout",
     "output_type": "stream",
     "text": [
      "22\n",
      "[0.2 0.4 0.3 0.1 0.5 0.6 1.4 1.5 1.3 1.6 1.  1.1 1.8 1.2 1.7 2.5 1.9 2.1\n",
      " 2.2 2.  2.4 2.3]\n",
      "0.2    28\n",
      "1.3    13\n",
      "1.5    12\n",
      "1.8    12\n",
      "1.4     8\n",
      "2.3     8\n",
      "1.0     7\n",
      "0.3     7\n",
      "0.4     7\n",
      "0.1     6\n",
      "2.0     6\n",
      "2.1     6\n",
      "1.2     5\n",
      "1.9     5\n",
      "1.6     4\n",
      "2.5     3\n",
      "2.2     3\n",
      "2.4     3\n",
      "1.1     3\n",
      "1.7     2\n",
      "0.6     1\n",
      "0.5     1\n",
      "Name: petal width, dtype: int64\n"
     ]
    }
   ],
   "source": [
    "print(iris['petal width'].nunique())\n",
    "print(iris['petal width'].unique())\n",
    "print(iris['petal width'].value_counts())"
   ]
  },
  {
   "cell_type": "code",
   "execution_count": 24,
   "metadata": {},
   "outputs": [
    {
     "name": "stdout",
     "output_type": "stream",
     "text": [
      "23\n",
      "[3.5 3.  3.2 3.1 3.6 3.9 3.4 2.9 3.7 4.  4.4 3.8 3.3 4.1 4.2 2.3 2.8 2.4\n",
      " 2.7 2.  2.2 2.5 2.6]\n",
      "3.0    26\n",
      "2.8    14\n",
      "3.2    13\n",
      "3.4    12\n",
      "3.1    12\n",
      "2.9    10\n",
      "2.7     9\n",
      "2.5     8\n",
      "3.5     6\n",
      "3.8     6\n",
      "3.3     6\n",
      "2.6     5\n",
      "2.3     4\n",
      "3.6     3\n",
      "2.4     3\n",
      "2.2     3\n",
      "3.7     3\n",
      "3.9     2\n",
      "4.2     1\n",
      "4.1     1\n",
      "4.4     1\n",
      "2.0     1\n",
      "4.0     1\n",
      "Name: sepal width, dtype: int64\n"
     ]
    }
   ],
   "source": [
    "print(iris['sepal width'].nunique())\n",
    "print(iris['sepal width'].unique())\n",
    "print(iris['sepal width'].value_counts())"
   ]
  },
  {
   "cell_type": "markdown",
   "metadata": {},
   "source": [
    "there are three categories so we can't apply logistic regression"
   ]
  },
  {
   "cell_type": "markdown",
   "metadata": {},
   "source": [
    "# Data Visualization"
   ]
  },
  {
   "cell_type": "markdown",
   "metadata": {},
   "source": [
    "# Univariate Analysis"
   ]
  },
  {
   "cell_type": "markdown",
   "metadata": {},
   "source": [
    "use distplot, histograms and boxplots to check for the distribution, skewness and outliers"
   ]
  },
  {
   "cell_type": "markdown",
   "metadata": {},
   "source": [
    "we can check mean, median and std of data from describe function above"
   ]
  },
  {
   "cell_type": "code",
   "execution_count": 18,
   "metadata": {},
   "outputs": [
    {
     "data": {
      "text/plain": [
       "sepal length       AxesSubplot(0.125,0.536818;0.352273x0.343182)\n",
       "sepal width     AxesSubplot(0.547727,0.536818;0.352273x0.343182)\n",
       "petal length          AxesSubplot(0.125,0.125;0.352273x0.343182)\n",
       "petal width        AxesSubplot(0.547727,0.125;0.352273x0.343182)\n",
       "dtype: object"
      ]
     },
     "execution_count": 18,
     "metadata": {},
     "output_type": "execute_result"
    },
    {
     "data": {
      "image/png": "[encoded data removed]",
      "text/plain": [
       "<Figure size 432x288 with 4 Axes>"
      ]
     },
     "metadata": {
      "needs_background": "light"
     },
     "output_type": "display_data"
    }
   ],
   "source": [
    "iris.plot(kind='box', subplots=True, layout=(2,2))"
   ]
  },
  {
   "cell_type": "markdown",
   "metadata": {},
   "source": [
    "there are outliers in sepal width"
   ]
  },
  {
   "cell_type": "code",
   "execution_count": 25,
   "metadata": {},
   "outputs": [
    {
     "data": {
      "text/plain": [
       "array([[<matplotlib.axes._subplots.AxesSubplot object at 0x000001F3B4D14308>,\n",
       "        <matplotlib.axes._subplots.AxesSubplot object at 0x000001F3B4D4A908>],\n",
       "       [<matplotlib.axes._subplots.AxesSubplot object at 0x000001F3B4D7DEC8>,\n",
       "        <matplotlib.axes._subplots.AxesSubplot object at 0x000001F3B4DADF48>]],\n",
       "      dtype=object)"
      ]
     },
     "execution_count": 25,
     "metadata": {},
     "output_type": "execute_result"
    },
    {
     "data": {
      "image/png": "[encoded data removed]",
      "text/plain": [
       "<Figure size 432x288 with 4 Axes>"
      ]
     },
     "metadata": {
      "needs_background": "light"
     },
     "output_type": "display_data"
    }
   ],
   "source": [
    "iris.plot(kind='hist', subplots=True, layout=(2,2))"
   ]
  },
  {
   "cell_type": "code",
   "execution_count": 26,
   "metadata": {},
   "outputs": [],
   "source": [
    "# another method to draw boxplot and distplot all at a time"
   ]
  },
  {
   "cell_type": "code",
   "execution_count": 28,
   "metadata": {},
   "outputs": [
    {
     "data": {
      "text/plain": [
       "array(['sepal length', 'sepal width', 'petal length', 'petal width',\n",
       "       'class'], dtype=object)"
      ]
     },
     "execution_count": 28,
     "metadata": {},
     "output_type": "execute_result"
    }
   ],
   "source": [
    "col=iris.columns.values\n",
    "col"
   ]
  },
  {
   "cell_type": "code",
   "execution_count": 30,
   "metadata": {},
   "outputs": [
    {
     "data": {
      "image/png": "[encoded data removed]",
      "text/plain": [
       "<Figure size 1440x1440 with 4 Axes>"
      ]
     },
     "metadata": {
      "needs_background": "light"
     },
     "output_type": "display_data"
    }
   ],
   "source": [
    "plt.figure(figsize=(20,20))\n",
    "for i in range(len(col)):\n",
    "    if i==4:\n",
    "        continue\n",
    "    plt.subplot(5,10,i+1)\n",
    "    sns.boxplot(iris[col[i]], orient='v', color='green')\n",
    "    plt.tight_layout()"
   ]
  },
  {
   "cell_type": "code",
   "execution_count": 33,
   "metadata": {},
   "outputs": [
    {
     "data": {
      "image/png": "[encoded data removed]",
      "text/plain": [
       "<Figure size 1440x1440 with 4 Axes>"
      ]
     },
     "metadata": {
      "needs_background": "light"
     },
     "output_type": "display_data"
    }
   ],
   "source": [
    "plt.figure(figsize=(20,20))\n",
    "for i in range(len(col)):\n",
    "    if i==4:\n",
    "        continue\n",
    "    plt.subplot(5,10,i+1)\n",
    "    sns.distplot(iris[col[i]])"
   ]
  },
  {
   "cell_type": "code",
   "execution_count": 35,
   "metadata": {},
   "outputs": [],
   "source": [
    "# check petal length and petal width closely"
   ]
  },
  {
   "cell_type": "code",
   "execution_count": 36,
   "metadata": {},
   "outputs": [
    {
     "data": {
      "text/plain": [
       "<matplotlib.axes._subplots.AxesSubplot at 0x1f3b50f87c8>"
      ]
     },
     "execution_count": 36,
     "metadata": {},
     "output_type": "execute_result"
    },
    {
     "data": {
      "image/png": "[encoded data removed]",
      "text/plain": [
       "<Figure size 432x288 with 1 Axes>"
      ]
     },
     "metadata": {
      "needs_background": "light"
     },
     "output_type": "display_data"
    }
   ],
   "source": [
    "sns.distplot(iris['petal length'])"
   ]
  },
  {
   "cell_type": "code",
   "execution_count": 37,
   "metadata": {},
   "outputs": [
    {
     "data": {
      "text/plain": [
       "<matplotlib.axes._subplots.AxesSubplot at 0x1f3b5156a08>"
      ]
     },
     "execution_count": 37,
     "metadata": {},
     "output_type": "execute_result"
    },
    {
     "data": {
      "image/png": "[encoded data removed]",
      "text/plain": [
       "<Figure size 432x288 with 1 Axes>"
      ]
     },
     "metadata": {
      "needs_background": "light"
     },
     "output_type": "display_data"
    }
   ],
   "source": [
    "sns.distplot(np.log(iris['petal length']))"
   ]
  },
  {
   "cell_type": "markdown",
   "metadata": {},
   "source": [
    "no use of log transformtion as the original data is not right skewed"
   ]
  },
  {
   "cell_type": "markdown",
   "metadata": {},
   "source": [
    "there are no categorical variables in the features"
   ]
  },
  {
   "cell_type": "markdown",
   "metadata": {},
   "source": [
    "# Bivariate Analysis"
   ]
  },
  {
   "cell_type": "code",
   "execution_count": 38,
   "metadata": {},
   "outputs": [
    {
     "data": {
      "text/plain": [
       "<matplotlib.axes._subplots.AxesSubplot at 0x1f3b51c4dc8>"
      ]
     },
     "execution_count": 38,
     "metadata": {},
     "output_type": "execute_result"
    },
    {
     "data": {
      "image/png": "[encoded data removed]",
      "text/plain": [
       "<Figure size 432x288 with 1 Axes>"
      ]
     },
     "metadata": {
      "needs_background": "light"
     },
     "output_type": "display_data"
    }
   ],
   "source": [
    "sns.scatterplot(x='sepal length', y='petal length', data=iris)"
   ]
  },
  {
   "cell_type": "code",
   "execution_count": 39,
   "metadata": {},
   "outputs": [
    {
     "data": {
      "text/plain": [
       "<matplotlib.axes._subplots.AxesSubplot at 0x1f3b5236ac8>"
      ]
     },
     "execution_count": 39,
     "metadata": {},
     "output_type": "execute_result"
    },
    {
     "data": {
      "image/png": "[encoded data removed]",
      "text/plain": [
       "<Figure size 432x288 with 1 Axes>"
      ]
     },
     "metadata": {
      "needs_background": "light"
     },
     "output_type": "display_data"
    }
   ],
   "source": [
    "sns.scatterplot(x='sepal length', y='petal width', data=iris)"
   ]
  },
  {
   "cell_type": "code",
   "execution_count": 40,
   "metadata": {},
   "outputs": [
    {
     "data": {
      "text/plain": [
       "<matplotlib.axes._subplots.AxesSubplot at 0x1f3b527ab48>"
      ]
     },
     "execution_count": 40,
     "metadata": {},
     "output_type": "execute_result"
    },
    {
     "data": {
      "image/png": "[encoded data removed]",
      "text/plain": [
       "<Figure size 432x288 with 1 Axes>"
      ]
     },
     "metadata": {
      "needs_background": "light"
     },
     "output_type": "display_data"
    }
   ],
   "source": [
    "sns.scatterplot(x='sepal length', y='sepal width', data=iris)"
   ]
  },
  {
   "cell_type": "code",
   "execution_count": 41,
   "metadata": {},
   "outputs": [
    {
     "data": {
      "text/plain": [
       "<matplotlib.axes._subplots.AxesSubplot at 0x1f3b529f948>"
      ]
     },
     "execution_count": 41,
     "metadata": {},
     "output_type": "execute_result"
    },
    {
     "data": {
      "image/png": "[encoded data removed]",
      "text/plain": [
       "<Figure size 432x288 with 1 Axes>"
      ]
     },
     "metadata": {
      "needs_background": "light"
     },
     "output_type": "display_data"
    }
   ],
   "source": [
    "sns.scatterplot(x='sepal width', y='petal length', data=iris)"
   ]
  },
  {
   "cell_type": "code",
   "execution_count": 42,
   "metadata": {},
   "outputs": [
    {
     "data": {
      "text/plain": [
       "<matplotlib.axes._subplots.AxesSubplot at 0x1f3b537e648>"
      ]
     },
     "execution_count": 42,
     "metadata": {},
     "output_type": "execute_result"
    },
    {
     "data": {
      "image/png": "[encoded data removed]",
      "text/plain": [
       "<Figure size 432x288 with 1 Axes>"
      ]
     },
     "metadata": {
      "needs_background": "light"
     },
     "output_type": "display_data"
    }
   ],
   "source": [
    "sns.scatterplot(x='sepal width', y='petal width', data=iris)"
   ]
  },
  {
   "cell_type": "code",
   "execution_count": 43,
   "metadata": {},
   "outputs": [
    {
     "data": {
      "text/plain": [
       "<seaborn.axisgrid.PairGrid at 0x1f3b4f9fd08>"
      ]
     },
     "execution_count": 43,
     "metadata": {},
     "output_type": "execute_result"
    },
    {
     "data": {
      "image/png": "[encoded data removed]",
      "text/plain": [
       "<Figure size 720x720 with 20 Axes>"
      ]
     },
     "metadata": {
      "needs_background": "light"
     },
     "output_type": "display_data"
    }
   ],
   "source": [
    "sns.pairplot(iris)"
   ]
  },
  {
   "cell_type": "markdown",
   "metadata": {},
   "source": [
    "strong correlation between petal length and petal width\n",
    "\n",
    "petal length and sepal length also have correlation\n",
    "\n",
    "no negative correlation"
   ]
  },
  {
   "cell_type": "code",
   "execution_count": 46,
   "metadata": {},
   "outputs": [
    {
     "data": {
      "image/png": "[encoded data removed]",
      "text/plain": [
       "<Figure size 288x288 with 2 Axes>"
      ]
     },
     "metadata": {
      "needs_background": "light"
     },
     "output_type": "display_data"
    }
   ],
   "source": [
    "plt.figure(figsize=(4,4))\n",
    "sns.heatmap(iris.corr(), annot=True)\n",
    "plt.show()"
   ]
  },
  {
   "cell_type": "markdown",
   "metadata": {},
   "source": [
    "there are a few negative correlation as we can see"
   ]
  },
  {
   "cell_type": "markdown",
   "metadata": {},
   "source": [
    "# Missing Values"
   ]
  },
  {
   "cell_type": "code",
   "execution_count": 47,
   "metadata": {},
   "outputs": [
    {
     "data": {
      "text/plain": [
       "sepal length    0\n",
       "sepal width     0\n",
       "petal length    0\n",
       "petal width     0\n",
       "class           0\n",
       "dtype: int64"
      ]
     },
     "execution_count": 47,
     "metadata": {},
     "output_type": "execute_result"
    }
   ],
   "source": [
    "iris.isnull().sum()"
   ]
  },
  {
   "cell_type": "markdown",
   "metadata": {},
   "source": [
    "there are no missing values"
   ]
  },
  {
   "cell_type": "markdown",
   "metadata": {},
   "source": [
    "# Outliers"
   ]
  },
  {
   "cell_type": "code",
   "execution_count": 52,
   "metadata": {},
   "outputs": [],
   "source": [
    "iris_num=iris.iloc[:,0:-1]"
   ]
  },
  {
   "cell_type": "code",
   "execution_count": 57,
   "metadata": {},
   "outputs": [],
   "source": [
    "z=np.abs(zscore(iris_num))"
   ]
  },
  {
   "cell_type": "code",
   "execution_count": 58,
   "metadata": {},
   "outputs": [
    {
     "name": "stdout",
     "output_type": "stream",
     "text": [
      "(array([15], dtype=int64), array([1], dtype=int64))\n"
     ]
    }
   ],
   "source": [
    "print(np.where(z>3))"
   ]
  },
  {
   "cell_type": "code",
   "execution_count": 59,
   "metadata": {},
   "outputs": [
    {
     "data": {
      "text/plain": [
       "3.1146839106774356"
      ]
     },
     "execution_count": 59,
     "metadata": {},
     "output_type": "execute_result"
    }
   ],
   "source": [
    "z[15,1]"
   ]
  },
  {
   "cell_type": "code",
   "execution_count": 60,
   "metadata": {},
   "outputs": [],
   "source": [
    "iris_num=iris_num[(z<3).all(axis=1)]"
   ]
  },
  {
   "cell_type": "code",
   "execution_count": 61,
   "metadata": {},
   "outputs": [],
   "source": [
    "iris_num['class']=iris['class']"
   ]
  },
  {
   "cell_type": "code",
   "execution_count": 62,
   "metadata": {
    "scrolled": true
   },
   "outputs": [
    {
     "data": {
      "text/html": [
       "<div>\n",
       "<style scoped>\n",
       "    .dataframe tbody tr th:only-of-type {\n",
       "        vertical-align: middle;\n",
       "    }\n",
       "\n",
       "    .dataframe tbody tr th {\n",
       "        vertical-align: top;\n",
       "    }\n",
       "\n",
       "    .dataframe thead th {\n",
       "        text-align: right;\n",
       "    }\n",
       "</style>\n",
       "<table border=\"1\" class=\"dataframe\">\n",
       "  <thead>\n",
       "    <tr style=\"text-align: right;\">\n",
       "      <th></th>\n",
       "      <th>sepal length</th>\n",
       "      <th>sepal width</th>\n",
       "      <th>petal length</th>\n",
       "      <th>petal width</th>\n",
       "      <th>class</th>\n",
       "    </tr>\n",
       "  </thead>\n",
       "  <tbody>\n",
       "    <tr>\n",
       "      <td>0</td>\n",
       "      <td>5.1</td>\n",
       "      <td>3.5</td>\n",
       "      <td>1.4</td>\n",
       "      <td>0.2</td>\n",
       "      <td>Iris-setosa</td>\n",
       "    </tr>\n",
       "    <tr>\n",
       "      <td>1</td>\n",
       "      <td>4.9</td>\n",
       "      <td>3.0</td>\n",
       "      <td>1.4</td>\n",
       "      <td>0.2</td>\n",
       "      <td>Iris-setosa</td>\n",
       "    </tr>\n",
       "    <tr>\n",
       "      <td>2</td>\n",
       "      <td>4.7</td>\n",
       "      <td>3.2</td>\n",
       "      <td>1.3</td>\n",
       "      <td>0.2</td>\n",
       "      <td>Iris-setosa</td>\n",
       "    </tr>\n",
       "    <tr>\n",
       "      <td>3</td>\n",
       "      <td>4.6</td>\n",
       "      <td>3.1</td>\n",
       "      <td>1.5</td>\n",
       "      <td>0.2</td>\n",
       "      <td>Iris-setosa</td>\n",
       "    </tr>\n",
       "    <tr>\n",
       "      <td>4</td>\n",
       "      <td>5.0</td>\n",
       "      <td>3.6</td>\n",
       "      <td>1.4</td>\n",
       "      <td>0.2</td>\n",
       "      <td>Iris-setosa</td>\n",
       "    </tr>\n",
       "    <tr>\n",
       "      <td>...</td>\n",
       "      <td>...</td>\n",
       "      <td>...</td>\n",
       "      <td>...</td>\n",
       "      <td>...</td>\n",
       "      <td>...</td>\n",
       "    </tr>\n",
       "    <tr>\n",
       "      <td>145</td>\n",
       "      <td>6.7</td>\n",
       "      <td>3.0</td>\n",
       "      <td>5.2</td>\n",
       "      <td>2.3</td>\n",
       "      <td>Iris-virginica</td>\n",
       "    </tr>\n",
       "    <tr>\n",
       "      <td>146</td>\n",
       "      <td>6.3</td>\n",
       "      <td>2.5</td>\n",
       "      <td>5.0</td>\n",
       "      <td>1.9</td>\n",
       "      <td>Iris-virginica</td>\n",
       "    </tr>\n",
       "    <tr>\n",
       "      <td>147</td>\n",
       "      <td>6.5</td>\n",
       "      <td>3.0</td>\n",
       "      <td>5.2</td>\n",
       "      <td>2.0</td>\n",
       "      <td>Iris-virginica</td>\n",
       "    </tr>\n",
       "    <tr>\n",
       "      <td>148</td>\n",
       "      <td>6.2</td>\n",
       "      <td>3.4</td>\n",
       "      <td>5.4</td>\n",
       "      <td>2.3</td>\n",
       "      <td>Iris-virginica</td>\n",
       "    </tr>\n",
       "    <tr>\n",
       "      <td>149</td>\n",
       "      <td>5.9</td>\n",
       "      <td>3.0</td>\n",
       "      <td>5.1</td>\n",
       "      <td>1.8</td>\n",
       "      <td>Iris-virginica</td>\n",
       "    </tr>\n",
       "  </tbody>\n",
       "</table>\n",
       "<p>149 rows × 5 columns</p>\n",
       "</div>"
      ],
      "text/plain": [
       "     sepal length  sepal width  petal length  petal width           class\n",
       "0             5.1          3.5           1.4          0.2     Iris-setosa\n",
       "1             4.9          3.0           1.4          0.2     Iris-setosa\n",
       "2             4.7          3.2           1.3          0.2     Iris-setosa\n",
       "3             4.6          3.1           1.5          0.2     Iris-setosa\n",
       "4             5.0          3.6           1.4          0.2     Iris-setosa\n",
       "..            ...          ...           ...          ...             ...\n",
       "145           6.7          3.0           5.2          2.3  Iris-virginica\n",
       "146           6.3          2.5           5.0          1.9  Iris-virginica\n",
       "147           6.5          3.0           5.2          2.0  Iris-virginica\n",
       "148           6.2          3.4           5.4          2.3  Iris-virginica\n",
       "149           5.9          3.0           5.1          1.8  Iris-virginica\n",
       "\n",
       "[149 rows x 5 columns]"
      ]
     },
     "execution_count": 62,
     "metadata": {},
     "output_type": "execute_result"
    }
   ],
   "source": [
    "iris_num"
   ]
  },
  {
   "cell_type": "markdown",
   "metadata": {},
   "source": [
    "There might be a problem with the index of iris_num and iris['class'] with this method"
   ]
  },
  {
   "cell_type": "code",
   "execution_count": 65,
   "metadata": {},
   "outputs": [],
   "source": [
    "z=zscore(iris.iloc[:,0:-1])"
   ]
  },
  {
   "cell_type": "code",
   "execution_count": 66,
   "metadata": {},
   "outputs": [],
   "source": [
    "iris=iris[(z<3).all(axis=1)]"
   ]
  },
  {
   "cell_type": "markdown",
   "metadata": {},
   "source": [
    "# data transformation"
   ]
  },
  {
   "cell_type": "code",
   "execution_count": 67,
   "metadata": {},
   "outputs": [],
   "source": [
    "# Now we'll create a copy of iris and apply data transformation on that only and finally \n",
    "# compare the result between iris and iris copy"
   ]
  },
  {
   "cell_type": "code",
   "execution_count": 68,
   "metadata": {},
   "outputs": [],
   "source": [
    "iris_copy=iris.copy()"
   ]
  },
  {
   "cell_type": "code",
   "execution_count": 70,
   "metadata": {},
   "outputs": [],
   "source": [
    "sc=StandardScaler()"
   ]
  },
  {
   "cell_type": "code",
   "execution_count": 72,
   "metadata": {},
   "outputs": [],
   "source": [
    "iris_copy=sc.fit_transform(iris_copy.iloc[:,0:-1])"
   ]
  },
  {
   "cell_type": "code",
   "execution_count": 75,
   "metadata": {},
   "outputs": [],
   "source": [
    "iris_copy=pd.DataFrame(iris_copy)"
   ]
  },
  {
   "cell_type": "code",
   "execution_count": 76,
   "metadata": {},
   "outputs": [],
   "source": [
    "iris_copy['class']=iris['class']"
   ]
  },
  {
   "cell_type": "code",
   "execution_count": 77,
   "metadata": {},
   "outputs": [
    {
     "data": {
      "text/html": [
       "<div>\n",
       "<style scoped>\n",
       "    .dataframe tbody tr th:only-of-type {\n",
       "        vertical-align: middle;\n",
       "    }\n",
       "\n",
       "    .dataframe tbody tr th {\n",
       "        vertical-align: top;\n",
       "    }\n",
       "\n",
       "    .dataframe thead th {\n",
       "        text-align: right;\n",
       "    }\n",
       "</style>\n",
       "<table border=\"1\" class=\"dataframe\">\n",
       "  <thead>\n",
       "    <tr style=\"text-align: right;\">\n",
       "      <th></th>\n",
       "      <th>0</th>\n",
       "      <th>1</th>\n",
       "      <th>2</th>\n",
       "      <th>3</th>\n",
       "      <th>class</th>\n",
       "    </tr>\n",
       "  </thead>\n",
       "  <tbody>\n",
       "    <tr>\n",
       "      <td>0</td>\n",
       "      <td>-0.898927</td>\n",
       "      <td>1.085374</td>\n",
       "      <td>-1.352896</td>\n",
       "      <td>-1.320511</td>\n",
       "      <td>Iris-setosa</td>\n",
       "    </tr>\n",
       "    <tr>\n",
       "      <td>1</td>\n",
       "      <td>-1.140478</td>\n",
       "      <td>-0.107257</td>\n",
       "      <td>-1.352896</td>\n",
       "      <td>-1.320511</td>\n",
       "      <td>Iris-setosa</td>\n",
       "    </tr>\n",
       "    <tr>\n",
       "      <td>2</td>\n",
       "      <td>-1.382029</td>\n",
       "      <td>0.369796</td>\n",
       "      <td>-1.409888</td>\n",
       "      <td>-1.320511</td>\n",
       "      <td>Iris-setosa</td>\n",
       "    </tr>\n",
       "    <tr>\n",
       "      <td>3</td>\n",
       "      <td>-1.502804</td>\n",
       "      <td>0.131269</td>\n",
       "      <td>-1.295904</td>\n",
       "      <td>-1.320511</td>\n",
       "      <td>Iris-setosa</td>\n",
       "    </tr>\n",
       "    <tr>\n",
       "      <td>4</td>\n",
       "      <td>-1.019702</td>\n",
       "      <td>1.323900</td>\n",
       "      <td>-1.352896</td>\n",
       "      <td>-1.320511</td>\n",
       "      <td>Iris-setosa</td>\n",
       "    </tr>\n",
       "    <tr>\n",
       "      <td>...</td>\n",
       "      <td>...</td>\n",
       "      <td>...</td>\n",
       "      <td>...</td>\n",
       "      <td>...</td>\n",
       "      <td>...</td>\n",
       "    </tr>\n",
       "    <tr>\n",
       "      <td>144</td>\n",
       "      <td>1.033482</td>\n",
       "      <td>-0.107257</td>\n",
       "      <td>0.812808</td>\n",
       "      <td>1.441440</td>\n",
       "      <td>Iris-virginica</td>\n",
       "    </tr>\n",
       "    <tr>\n",
       "      <td>145</td>\n",
       "      <td>0.550380</td>\n",
       "      <td>-1.299887</td>\n",
       "      <td>0.698824</td>\n",
       "      <td>0.915354</td>\n",
       "      <td>Iris-virginica</td>\n",
       "    </tr>\n",
       "    <tr>\n",
       "      <td>146</td>\n",
       "      <td>0.791931</td>\n",
       "      <td>-0.107257</td>\n",
       "      <td>0.812808</td>\n",
       "      <td>1.046876</td>\n",
       "      <td>Iris-virginica</td>\n",
       "    </tr>\n",
       "    <tr>\n",
       "      <td>147</td>\n",
       "      <td>0.429604</td>\n",
       "      <td>0.846848</td>\n",
       "      <td>0.926793</td>\n",
       "      <td>1.441440</td>\n",
       "      <td>Iris-virginica</td>\n",
       "    </tr>\n",
       "    <tr>\n",
       "      <td>148</td>\n",
       "      <td>0.067278</td>\n",
       "      <td>-0.107257</td>\n",
       "      <td>0.755816</td>\n",
       "      <td>0.783833</td>\n",
       "      <td>Iris-virginica</td>\n",
       "    </tr>\n",
       "  </tbody>\n",
       "</table>\n",
       "<p>149 rows × 5 columns</p>\n",
       "</div>"
      ],
      "text/plain": [
       "            0         1         2         3           class\n",
       "0   -0.898927  1.085374 -1.352896 -1.320511     Iris-setosa\n",
       "1   -1.140478 -0.107257 -1.352896 -1.320511     Iris-setosa\n",
       "2   -1.382029  0.369796 -1.409888 -1.320511     Iris-setosa\n",
       "3   -1.502804  0.131269 -1.295904 -1.320511     Iris-setosa\n",
       "4   -1.019702  1.323900 -1.352896 -1.320511     Iris-setosa\n",
       "..        ...       ...       ...       ...             ...\n",
       "144  1.033482 -0.107257  0.812808  1.441440  Iris-virginica\n",
       "145  0.550380 -1.299887  0.698824  0.915354  Iris-virginica\n",
       "146  0.791931 -0.107257  0.812808  1.046876  Iris-virginica\n",
       "147  0.429604  0.846848  0.926793  1.441440  Iris-virginica\n",
       "148  0.067278 -0.107257  0.755816  0.783833  Iris-virginica\n",
       "\n",
       "[149 rows x 5 columns]"
      ]
     },
     "execution_count": 77,
     "metadata": {},
     "output_type": "execute_result"
    }
   ],
   "source": [
    "iris_copy"
   ]
  },
  {
   "cell_type": "code",
   "execution_count": 78,
   "metadata": {},
   "outputs": [
    {
     "data": {
      "text/html": [
       "<div>\n",
       "<style scoped>\n",
       "    .dataframe tbody tr th:only-of-type {\n",
       "        vertical-align: middle;\n",
       "    }\n",
       "\n",
       "    .dataframe tbody tr th {\n",
       "        vertical-align: top;\n",
       "    }\n",
       "\n",
       "    .dataframe thead th {\n",
       "        text-align: right;\n",
       "    }\n",
       "</style>\n",
       "<table border=\"1\" class=\"dataframe\">\n",
       "  <thead>\n",
       "    <tr style=\"text-align: right;\">\n",
       "      <th></th>\n",
       "      <th>sepal length</th>\n",
       "      <th>sepal width</th>\n",
       "      <th>petal length</th>\n",
       "      <th>petal width</th>\n",
       "      <th>class</th>\n",
       "    </tr>\n",
       "  </thead>\n",
       "  <tbody>\n",
       "    <tr>\n",
       "      <td>0</td>\n",
       "      <td>5.1</td>\n",
       "      <td>3.5</td>\n",
       "      <td>1.4</td>\n",
       "      <td>0.2</td>\n",
       "      <td>Iris-setosa</td>\n",
       "    </tr>\n",
       "    <tr>\n",
       "      <td>1</td>\n",
       "      <td>4.9</td>\n",
       "      <td>3.0</td>\n",
       "      <td>1.4</td>\n",
       "      <td>0.2</td>\n",
       "      <td>Iris-setosa</td>\n",
       "    </tr>\n",
       "    <tr>\n",
       "      <td>2</td>\n",
       "      <td>4.7</td>\n",
       "      <td>3.2</td>\n",
       "      <td>1.3</td>\n",
       "      <td>0.2</td>\n",
       "      <td>Iris-setosa</td>\n",
       "    </tr>\n",
       "    <tr>\n",
       "      <td>3</td>\n",
       "      <td>4.6</td>\n",
       "      <td>3.1</td>\n",
       "      <td>1.5</td>\n",
       "      <td>0.2</td>\n",
       "      <td>Iris-setosa</td>\n",
       "    </tr>\n",
       "    <tr>\n",
       "      <td>4</td>\n",
       "      <td>5.0</td>\n",
       "      <td>3.6</td>\n",
       "      <td>1.4</td>\n",
       "      <td>0.2</td>\n",
       "      <td>Iris-setosa</td>\n",
       "    </tr>\n",
       "    <tr>\n",
       "      <td>...</td>\n",
       "      <td>...</td>\n",
       "      <td>...</td>\n",
       "      <td>...</td>\n",
       "      <td>...</td>\n",
       "      <td>...</td>\n",
       "    </tr>\n",
       "    <tr>\n",
       "      <td>145</td>\n",
       "      <td>6.7</td>\n",
       "      <td>3.0</td>\n",
       "      <td>5.2</td>\n",
       "      <td>2.3</td>\n",
       "      <td>Iris-virginica</td>\n",
       "    </tr>\n",
       "    <tr>\n",
       "      <td>146</td>\n",
       "      <td>6.3</td>\n",
       "      <td>2.5</td>\n",
       "      <td>5.0</td>\n",
       "      <td>1.9</td>\n",
       "      <td>Iris-virginica</td>\n",
       "    </tr>\n",
       "    <tr>\n",
       "      <td>147</td>\n",
       "      <td>6.5</td>\n",
       "      <td>3.0</td>\n",
       "      <td>5.2</td>\n",
       "      <td>2.0</td>\n",
       "      <td>Iris-virginica</td>\n",
       "    </tr>\n",
       "    <tr>\n",
       "      <td>148</td>\n",
       "      <td>6.2</td>\n",
       "      <td>3.4</td>\n",
       "      <td>5.4</td>\n",
       "      <td>2.3</td>\n",
       "      <td>Iris-virginica</td>\n",
       "    </tr>\n",
       "    <tr>\n",
       "      <td>149</td>\n",
       "      <td>5.9</td>\n",
       "      <td>3.0</td>\n",
       "      <td>5.1</td>\n",
       "      <td>1.8</td>\n",
       "      <td>Iris-virginica</td>\n",
       "    </tr>\n",
       "  </tbody>\n",
       "</table>\n",
       "<p>149 rows × 5 columns</p>\n",
       "</div>"
      ],
      "text/plain": [
       "     sepal length  sepal width  petal length  petal width           class\n",
       "0             5.1          3.5           1.4          0.2     Iris-setosa\n",
       "1             4.9          3.0           1.4          0.2     Iris-setosa\n",
       "2             4.7          3.2           1.3          0.2     Iris-setosa\n",
       "3             4.6          3.1           1.5          0.2     Iris-setosa\n",
       "4             5.0          3.6           1.4          0.2     Iris-setosa\n",
       "..            ...          ...           ...          ...             ...\n",
       "145           6.7          3.0           5.2          2.3  Iris-virginica\n",
       "146           6.3          2.5           5.0          1.9  Iris-virginica\n",
       "147           6.5          3.0           5.2          2.0  Iris-virginica\n",
       "148           6.2          3.4           5.4          2.3  Iris-virginica\n",
       "149           5.9          3.0           5.1          1.8  Iris-virginica\n",
       "\n",
       "[149 rows x 5 columns]"
      ]
     },
     "execution_count": 78,
     "metadata": {},
     "output_type": "execute_result"
    }
   ],
   "source": [
    "iris"
   ]
  },
  {
   "cell_type": "markdown",
   "metadata": {},
   "source": [
    "a comparison between iris and iris_copy"
   ]
  },
  {
   "cell_type": "markdown",
   "metadata": {},
   "source": [
    "# Model Selection"
   ]
  },
  {
   "cell_type": "markdown",
   "metadata": {},
   "source": [
    "we can choose out of Decision tree, knn, svm, Multinomial Naive bayes"
   ]
  },
  {
   "cell_type": "code",
   "execution_count": 79,
   "metadata": {},
   "outputs": [],
   "source": [
    "from sklearn.tree import DecisionTreeClassifier"
   ]
  },
  {
   "cell_type": "code",
   "execution_count": 80,
   "metadata": {},
   "outputs": [],
   "source": [
    "from sklearn.neighbors import KNeighborsClassifier"
   ]
  },
  {
   "cell_type": "code",
   "execution_count": 81,
   "metadata": {},
   "outputs": [],
   "source": [
    "from sklearn.svm import SVC"
   ]
  },
  {
   "cell_type": "code",
   "execution_count": 82,
   "metadata": {},
   "outputs": [],
   "source": [
    "from sklearn.naive_bayes import MultinomialNB"
   ]
  },
  {
   "cell_type": "code",
   "execution_count": 85,
   "metadata": {},
   "outputs": [],
   "source": [
    "from sklearn.metrics import classification_report, confusion_matrix, accuracy_score"
   ]
  },
  {
   "cell_type": "code",
   "execution_count": 87,
   "metadata": {},
   "outputs": [],
   "source": [
    "from sklearn.model_selection import train_test_split"
   ]
  },
  {
   "cell_type": "code",
   "execution_count": 88,
   "metadata": {},
   "outputs": [
    {
     "data": {
      "text/plain": [
       "(149, 4)"
      ]
     },
     "execution_count": 88,
     "metadata": {},
     "output_type": "execute_result"
    }
   ],
   "source": [
    "x=iris.iloc[:,0:-1]\n",
    "x.shape"
   ]
  },
  {
   "cell_type": "code",
   "execution_count": 89,
   "metadata": {},
   "outputs": [
    {
     "data": {
      "text/plain": [
       "(149,)"
      ]
     },
     "execution_count": 89,
     "metadata": {},
     "output_type": "execute_result"
    }
   ],
   "source": [
    "y=iris.iloc[:,-1]\n",
    "y.shape"
   ]
  },
  {
   "cell_type": "code",
   "execution_count": 90,
   "metadata": {},
   "outputs": [],
   "source": [
    "x_train, x_test, y_train, y_test=train_test_split(x,y,test_size=0.22,random_state=45)"
   ]
  },
  {
   "cell_type": "code",
   "execution_count": 91,
   "metadata": {},
   "outputs": [
    {
     "name": "stdout",
     "output_type": "stream",
     "text": [
      "(116, 4)\n",
      "(33, 4)\n",
      "(116,)\n",
      "(33,)\n"
     ]
    }
   ],
   "source": [
    "print(x_train.shape)\n",
    "print(x_test.shape)\n",
    "print(y_train.shape)\n",
    "print(y_test.shape)"
   ]
  },
  {
   "cell_type": "code",
   "execution_count": 92,
   "metadata": {},
   "outputs": [
    {
     "data": {
      "text/plain": [
       "0.9090909090909091"
      ]
     },
     "execution_count": 92,
     "metadata": {},
     "output_type": "execute_result"
    }
   ],
   "source": [
    "model=DecisionTreeClassifier()\n",
    "model.fit(x_train,y_train)\n",
    "y=model.predict(x_test)\n",
    "accuracy_score(y,y_test)"
   ]
  },
  {
   "cell_type": "code",
   "execution_count": 83,
   "metadata": {},
   "outputs": [],
   "source": [
    "model_list=[DecisionTreeClassifier(), KNeighborsClassifier(), SVC(), MultinomialNB()]"
   ]
  },
  {
   "cell_type": "code",
   "execution_count": 95,
   "metadata": {},
   "outputs": [
    {
     "name": "stdout",
     "output_type": "stream",
     "text": [
      "DecisionTreeClassifier(class_weight=None, criterion='gini', max_depth=None,\n",
      "                       max_features=None, max_leaf_nodes=None,\n",
      "                       min_impurity_decrease=0.0, min_impurity_split=None,\n",
      "                       min_samples_leaf=1, min_samples_split=2,\n",
      "                       min_weight_fraction_leaf=0.0, presort=False,\n",
      "                       random_state=None, splitter='best')\n",
      "\n",
      "\n",
      "0.9090909090909091\n",
      "                 precision    recall  f1-score   support\n",
      "\n",
      "    Iris-setosa       1.00      1.00      1.00        11\n",
      "Iris-versicolor       0.88      0.78      0.82         9\n",
      " Iris-virginica       0.86      0.92      0.89        13\n",
      "\n",
      "       accuracy                           0.91        33\n",
      "      macro avg       0.91      0.90      0.90        33\n",
      "   weighted avg       0.91      0.91      0.91        33\n",
      "\n",
      "[[11  0  0]\n",
      " [ 0  7  2]\n",
      " [ 0  1 12]]\n",
      "\n",
      "\n",
      "\n",
      "\n",
      "KNeighborsClassifier(algorithm='auto', leaf_size=30, metric='minkowski',\n",
      "                     metric_params=None, n_jobs=None, n_neighbors=5, p=2,\n",
      "                     weights='uniform')\n",
      "\n",
      "\n",
      "0.9393939393939394\n",
      "                 precision    recall  f1-score   support\n",
      "\n",
      "    Iris-setosa       1.00      1.00      1.00        11\n",
      "Iris-versicolor       0.88      0.88      0.88         8\n",
      " Iris-virginica       0.93      0.93      0.93        14\n",
      "\n",
      "       accuracy                           0.94        33\n",
      "      macro avg       0.93      0.93      0.93        33\n",
      "   weighted avg       0.94      0.94      0.94        33\n",
      "\n",
      "[[11  0  0]\n",
      " [ 0  7  1]\n",
      " [ 0  1 13]]\n",
      "\n",
      "\n",
      "\n",
      "\n",
      "SVC(C=1.0, cache_size=200, class_weight=None, coef0=0.0,\n",
      "    decision_function_shape='ovr', degree=3, gamma='auto_deprecated',\n",
      "    kernel='rbf', max_iter=-1, probability=False, random_state=None,\n",
      "    shrinking=True, tol=0.001, verbose=False)\n",
      "\n",
      "\n",
      "0.9393939393939394\n",
      "                 precision    recall  f1-score   support\n",
      "\n",
      "    Iris-setosa       1.00      1.00      1.00        11\n",
      "Iris-versicolor       0.88      0.88      0.88         8\n",
      " Iris-virginica       0.93      0.93      0.93        14\n",
      "\n",
      "       accuracy                           0.94        33\n",
      "      macro avg       0.93      0.93      0.93        33\n",
      "   weighted avg       0.94      0.94      0.94        33\n",
      "\n",
      "[[11  0  0]\n",
      " [ 0  7  1]\n",
      " [ 0  1 13]]\n",
      "\n",
      "\n",
      "\n",
      "\n",
      "MultinomialNB(alpha=1.0, class_prior=None, fit_prior=True)\n",
      "\n",
      "\n",
      "0.696969696969697\n",
      "                 precision    recall  f1-score   support\n",
      "\n",
      "    Iris-setosa       1.00      1.00      1.00        11\n",
      "Iris-versicolor       1.00      0.44      0.62        18\n",
      " Iris-virginica       0.29      1.00      0.44         4\n",
      "\n",
      "       accuracy                           0.70        33\n",
      "      macro avg       0.76      0.81      0.69        33\n",
      "   weighted avg       0.91      0.70      0.72        33\n",
      "\n",
      "[[11  0  0]\n",
      " [ 0  8 10]\n",
      " [ 0  0  4]]\n",
      "\n",
      "\n",
      "\n",
      "\n"
     ]
    }
   ],
   "source": [
    "for m in model_list:\n",
    "        print(str(m))\n",
    "        print('\\n')\n",
    "        m.fit(x_train,y_train)\n",
    "        y=m.predict(x_test)\n",
    "        print(accuracy_score(y,y_test))\n",
    "        print(classification_report(y,y_test))\n",
    "        print(confusion_matrix(y,y_test))\n",
    "        print('\\n')\n",
    "        print('\\n')"
   ]
  },
  {
   "cell_type": "code",
   "execution_count": 97,
   "metadata": {},
   "outputs": [
    {
     "name": "stdout",
     "output_type": "stream",
     "text": [
      "KNeighborsClassifier(algorithm='auto', leaf_size=30, metric='minkowski',\n",
      "                     metric_params=None, n_jobs=None, n_neighbors=5, p=2,\n",
      "                     weights='uniform')\n",
      "\n",
      "\n",
      "0.9393939393939394\n",
      "                 precision    recall  f1-score   support\n",
      "\n",
      "    Iris-setosa       1.00      1.00      1.00        11\n",
      "Iris-versicolor       0.88      0.88      0.88         8\n",
      " Iris-virginica       0.93      0.93      0.93        14\n",
      "\n",
      "       accuracy                           0.94        33\n",
      "      macro avg       0.93      0.93      0.93        33\n",
      "   weighted avg       0.94      0.94      0.94        33\n",
      "\n",
      "[[11  0  0]\n",
      " [ 0  7  1]\n",
      " [ 0  1 13]]\n",
      "\n",
      "\n",
      "\n",
      "\n",
      "KNeighborsClassifier(algorithm='auto', leaf_size=30, metric='minkowski',\n",
      "                     metric_params=None, n_jobs=None, n_neighbors=6, p=2,\n",
      "                     weights='uniform')\n",
      "\n",
      "\n",
      "0.9090909090909091\n",
      "                 precision    recall  f1-score   support\n",
      "\n",
      "    Iris-setosa       1.00      1.00      1.00        11\n",
      "Iris-versicolor       0.88      0.78      0.82         9\n",
      " Iris-virginica       0.86      0.92      0.89        13\n",
      "\n",
      "       accuracy                           0.91        33\n",
      "      macro avg       0.91      0.90      0.90        33\n",
      "   weighted avg       0.91      0.91      0.91        33\n",
      "\n",
      "[[11  0  0]\n",
      " [ 0  7  2]\n",
      " [ 0  1 12]]\n",
      "\n",
      "\n",
      "\n",
      "\n",
      "KNeighborsClassifier(algorithm='auto', leaf_size=30, metric='minkowski',\n",
      "                     metric_params=None, n_jobs=None, n_neighbors=7, p=2,\n",
      "                     weights='uniform')\n",
      "\n",
      "\n",
      "0.9393939393939394\n",
      "                 precision    recall  f1-score   support\n",
      "\n",
      "    Iris-setosa       1.00      1.00      1.00        11\n",
      "Iris-versicolor       0.88      0.88      0.88         8\n",
      " Iris-virginica       0.93      0.93      0.93        14\n",
      "\n",
      "       accuracy                           0.94        33\n",
      "      macro avg       0.93      0.93      0.93        33\n",
      "   weighted avg       0.94      0.94      0.94        33\n",
      "\n",
      "[[11  0  0]\n",
      " [ 0  7  1]\n",
      " [ 0  1 13]]\n",
      "\n",
      "\n",
      "\n",
      "\n",
      "KNeighborsClassifier(algorithm='auto', leaf_size=30, metric='minkowski',\n",
      "                     metric_params=None, n_jobs=None, n_neighbors=8, p=2,\n",
      "                     weights='uniform')\n",
      "\n",
      "\n",
      "0.9090909090909091\n",
      "                 precision    recall  f1-score   support\n",
      "\n",
      "    Iris-setosa       1.00      1.00      1.00        11\n",
      "Iris-versicolor       0.88      0.78      0.82         9\n",
      " Iris-virginica       0.86      0.92      0.89        13\n",
      "\n",
      "       accuracy                           0.91        33\n",
      "      macro avg       0.91      0.90      0.90        33\n",
      "   weighted avg       0.91      0.91      0.91        33\n",
      "\n",
      "[[11  0  0]\n",
      " [ 0  7  2]\n",
      " [ 0  1 12]]\n",
      "\n",
      "\n",
      "\n",
      "\n",
      "KNeighborsClassifier(algorithm='auto', leaf_size=30, metric='minkowski',\n",
      "                     metric_params=None, n_jobs=None, n_neighbors=9, p=2,\n",
      "                     weights='uniform')\n",
      "\n",
      "\n",
      "0.9393939393939394\n",
      "                 precision    recall  f1-score   support\n",
      "\n",
      "    Iris-setosa       1.00      1.00      1.00        11\n",
      "Iris-versicolor       0.88      0.88      0.88         8\n",
      " Iris-virginica       0.93      0.93      0.93        14\n",
      "\n",
      "       accuracy                           0.94        33\n",
      "      macro avg       0.93      0.93      0.93        33\n",
      "   weighted avg       0.94      0.94      0.94        33\n",
      "\n",
      "[[11  0  0]\n",
      " [ 0  7  1]\n",
      " [ 0  1 13]]\n",
      "\n",
      "\n",
      "\n",
      "\n",
      "KNeighborsClassifier(algorithm='auto', leaf_size=30, metric='minkowski',\n",
      "                     metric_params=None, n_jobs=None, n_neighbors=10, p=2,\n",
      "                     weights='uniform')\n",
      "\n",
      "\n",
      "0.9393939393939394\n",
      "                 precision    recall  f1-score   support\n",
      "\n",
      "    Iris-setosa       1.00      1.00      1.00        11\n",
      "Iris-versicolor       1.00      0.80      0.89        10\n",
      " Iris-virginica       0.86      1.00      0.92        12\n",
      "\n",
      "       accuracy                           0.94        33\n",
      "      macro avg       0.95      0.93      0.94        33\n",
      "   weighted avg       0.95      0.94      0.94        33\n",
      "\n",
      "[[11  0  0]\n",
      " [ 0  8  2]\n",
      " [ 0  0 12]]\n",
      "\n",
      "\n",
      "\n",
      "\n",
      "KNeighborsClassifier(algorithm='auto', leaf_size=30, metric='minkowski',\n",
      "                     metric_params=None, n_jobs=None, n_neighbors=11, p=2,\n",
      "                     weights='uniform')\n",
      "\n",
      "\n",
      "0.9393939393939394\n",
      "                 precision    recall  f1-score   support\n",
      "\n",
      "    Iris-setosa       1.00      1.00      1.00        11\n",
      "Iris-versicolor       0.88      0.88      0.88         8\n",
      " Iris-virginica       0.93      0.93      0.93        14\n",
      "\n",
      "       accuracy                           0.94        33\n",
      "      macro avg       0.93      0.93      0.93        33\n",
      "   weighted avg       0.94      0.94      0.94        33\n",
      "\n",
      "[[11  0  0]\n",
      " [ 0  7  1]\n",
      " [ 0  1 13]]\n",
      "\n",
      "\n",
      "\n",
      "\n",
      "KNeighborsClassifier(algorithm='auto', leaf_size=30, metric='minkowski',\n",
      "                     metric_params=None, n_jobs=None, n_neighbors=12, p=2,\n",
      "                     weights='uniform')\n",
      "\n",
      "\n",
      "0.9393939393939394\n",
      "                 precision    recall  f1-score   support\n",
      "\n",
      "    Iris-setosa       1.00      1.00      1.00        11\n",
      "Iris-versicolor       0.88      0.88      0.88         8\n",
      " Iris-virginica       0.93      0.93      0.93        14\n",
      "\n",
      "       accuracy                           0.94        33\n",
      "      macro avg       0.93      0.93      0.93        33\n",
      "   weighted avg       0.94      0.94      0.94        33\n",
      "\n",
      "[[11  0  0]\n",
      " [ 0  7  1]\n",
      " [ 0  1 13]]\n",
      "\n",
      "\n",
      "\n",
      "\n",
      "KNeighborsClassifier(algorithm='auto', leaf_size=30, metric='minkowski',\n",
      "                     metric_params=None, n_jobs=None, n_neighbors=13, p=2,\n",
      "                     weights='uniform')\n",
      "\n",
      "\n",
      "0.9393939393939394\n",
      "                 precision    recall  f1-score   support\n",
      "\n",
      "    Iris-setosa       1.00      1.00      1.00        11\n",
      "Iris-versicolor       0.88      0.88      0.88         8\n",
      " Iris-virginica       0.93      0.93      0.93        14\n",
      "\n",
      "       accuracy                           0.94        33\n",
      "      macro avg       0.93      0.93      0.93        33\n",
      "   weighted avg       0.94      0.94      0.94        33\n",
      "\n",
      "[[11  0  0]\n",
      " [ 0  7  1]\n",
      " [ 0  1 13]]\n",
      "\n",
      "\n",
      "\n",
      "\n",
      "KNeighborsClassifier(algorithm='auto', leaf_size=30, metric='minkowski',\n",
      "                     metric_params=None, n_jobs=None, n_neighbors=14, p=2,\n",
      "                     weights='uniform')\n",
      "\n",
      "\n",
      "0.9393939393939394\n",
      "                 precision    recall  f1-score   support\n",
      "\n",
      "    Iris-setosa       1.00      1.00      1.00        11\n",
      "Iris-versicolor       0.88      0.88      0.88         8\n",
      " Iris-virginica       0.93      0.93      0.93        14\n",
      "\n",
      "       accuracy                           0.94        33\n",
      "      macro avg       0.93      0.93      0.93        33\n",
      "   weighted avg       0.94      0.94      0.94        33\n",
      "\n",
      "[[11  0  0]\n",
      " [ 0  7  1]\n",
      " [ 0  1 13]]\n",
      "\n",
      "\n",
      "\n",
      "\n",
      "KNeighborsClassifier(algorithm='auto', leaf_size=30, metric='minkowski',\n",
      "                     metric_params=None, n_jobs=None, n_neighbors=15, p=2,\n",
      "                     weights='uniform')\n",
      "\n",
      "\n",
      "0.9393939393939394\n",
      "                 precision    recall  f1-score   support\n",
      "\n",
      "    Iris-setosa       1.00      1.00      1.00        11\n",
      "Iris-versicolor       0.88      0.88      0.88         8\n",
      " Iris-virginica       0.93      0.93      0.93        14\n",
      "\n",
      "       accuracy                           0.94        33\n",
      "      macro avg       0.93      0.93      0.93        33\n",
      "   weighted avg       0.94      0.94      0.94        33\n",
      "\n",
      "[[11  0  0]\n",
      " [ 0  7  1]\n",
      " [ 0  1 13]]\n",
      "\n",
      "\n",
      "\n",
      "\n",
      "KNeighborsClassifier(algorithm='auto', leaf_size=30, metric='minkowski',\n",
      "                     metric_params=None, n_jobs=None, n_neighbors=16, p=2,\n",
      "                     weights='uniform')\n",
      "\n",
      "\n",
      "0.8787878787878788\n",
      "                 precision    recall  f1-score   support\n",
      "\n",
      "    Iris-setosa       1.00      1.00      1.00        11\n",
      "Iris-versicolor       0.88      0.70      0.78        10\n",
      " Iris-virginica       0.79      0.92      0.85        12\n",
      "\n",
      "       accuracy                           0.88        33\n",
      "      macro avg       0.89      0.87      0.87        33\n",
      "   weighted avg       0.88      0.88      0.88        33\n",
      "\n",
      "[[11  0  0]\n",
      " [ 0  7  3]\n",
      " [ 0  1 11]]\n",
      "\n",
      "\n",
      "\n",
      "\n"
     ]
    }
   ],
   "source": [
    "for i in range(5,17):\n",
    "        m=KNeighborsClassifier(n_neighbors=i)\n",
    "        print(str(m))\n",
    "        print('\\n')\n",
    "        m.fit(x_train,y_train)\n",
    "        y=m.predict(x_test)\n",
    "        print(accuracy_score(y,y_test))\n",
    "        print(classification_report(y,y_test))\n",
    "        print(confusion_matrix(y,y_test))\n",
    "        print('\\n')\n",
    "        print('\\n')"
   ]
  },
  {
   "cell_type": "markdown",
   "metadata": {},
   "source": [
    "the best one is at default value 10"
   ]
  },
  {
   "cell_type": "code",
   "execution_count": 98,
   "metadata": {},
   "outputs": [
    {
     "name": "stdout",
     "output_type": "stream",
     "text": [
      "0.9696969696969697\n",
      "                 precision    recall  f1-score   support\n",
      "\n",
      "    Iris-setosa       1.00      1.00      1.00        11\n",
      "Iris-versicolor       1.00      0.89      0.94         9\n",
      " Iris-virginica       0.93      1.00      0.96        13\n",
      "\n",
      "       accuracy                           0.97        33\n",
      "      macro avg       0.98      0.96      0.97        33\n",
      "   weighted avg       0.97      0.97      0.97        33\n",
      "\n",
      "[[11  0  0]\n",
      " [ 0  8  1]\n",
      " [ 0  0 13]]\n"
     ]
    }
   ],
   "source": [
    "m=SVC(kernel='poly')\n",
    "m.fit(x_train,y_train)\n",
    "y=m.predict(x_test)\n",
    "print(accuracy_score(y,y_test))\n",
    "print(classification_report(y,y_test))\n",
    "print(confusion_matrix(y,y_test))"
   ]
  },
  {
   "cell_type": "markdown",
   "metadata": {},
   "source": [
    "the best model is svc poly"
   ]
  },
  {
   "cell_type": "markdown",
   "metadata": {},
   "source": [
    "# Iris_copy"
   ]
  },
  {
   "cell_type": "code",
   "execution_count": 99,
   "metadata": {},
   "outputs": [
    {
     "data": {
      "text/plain": [
       "(149, 4)"
      ]
     },
     "execution_count": 99,
     "metadata": {},
     "output_type": "execute_result"
    }
   ],
   "source": [
    "p=iris_copy.iloc[:,0:-1]\n",
    "p.shape"
   ]
  },
  {
   "cell_type": "code",
   "execution_count": 100,
   "metadata": {},
   "outputs": [
    {
     "data": {
      "text/plain": [
       "(149,)"
      ]
     },
     "execution_count": 100,
     "metadata": {},
     "output_type": "execute_result"
    }
   ],
   "source": [
    "q=iris.iloc[:,-1]\n",
    "q.shape"
   ]
  },
  {
   "cell_type": "code",
   "execution_count": 101,
   "metadata": {},
   "outputs": [],
   "source": [
    "p_train, p_test, q_train, q_test=train_test_split(p,q,test_size=0.22,random_state=45)"
   ]
  },
  {
   "cell_type": "code",
   "execution_count": 105,
   "metadata": {},
   "outputs": [
    {
     "name": "stdout",
     "output_type": "stream",
     "text": [
      "(116, 4)\n",
      "(33, 4)\n",
      "(116,)\n",
      "(33,)\n"
     ]
    }
   ],
   "source": [
    "print(p_train.shape)\n",
    "print(p_test.shape)\n",
    "print(q_train.shape)\n",
    "print(q_test.shape)"
   ]
  },
  {
   "cell_type": "code",
   "execution_count": 114,
   "metadata": {},
   "outputs": [],
   "source": [
    "model_list=[DecisionTreeClassifier(criterion='gini'), DecisionTreeClassifier(criterion='entropy'),\n",
    "            KNeighborsClassifier(), \n",
    "            SVC(kernel='poly'), SVC(kernel='rbf'), MultinomialNB()]"
   ]
  },
  {
   "cell_type": "code",
   "execution_count": 115,
   "metadata": {},
   "outputs": [
    {
     "name": "stdout",
     "output_type": "stream",
     "text": [
      "DecisionTreeClassifier(class_weight=None, criterion='gini', max_depth=None,\n",
      "                       max_features=None, max_leaf_nodes=None,\n",
      "                       min_impurity_decrease=0.0, min_impurity_split=None,\n",
      "                       min_samples_leaf=1, min_samples_split=2,\n",
      "                       min_weight_fraction_leaf=0.0, presort=False,\n",
      "                       random_state=None, splitter='best')\n",
      "\n",
      "\n",
      "0.8787878787878788\n",
      "                 precision    recall  f1-score   support\n",
      "\n",
      "    Iris-setosa       1.00      1.00      1.00        11\n",
      "Iris-versicolor       0.88      0.70      0.78        10\n",
      " Iris-virginica       0.79      0.92      0.85        12\n",
      "\n",
      "       accuracy                           0.88        33\n",
      "      macro avg       0.89      0.87      0.87        33\n",
      "   weighted avg       0.88      0.88      0.88        33\n",
      "\n",
      "[[11  0  0]\n",
      " [ 0  7  3]\n",
      " [ 0  1 11]]\n",
      "\n",
      "\n",
      "\n",
      "\n",
      "DecisionTreeClassifier(class_weight=None, criterion='entropy', max_depth=None,\n",
      "                       max_features=None, max_leaf_nodes=None,\n",
      "                       min_impurity_decrease=0.0, min_impurity_split=None,\n",
      "                       min_samples_leaf=1, min_samples_split=2,\n",
      "                       min_weight_fraction_leaf=0.0, presort=False,\n",
      "                       random_state=None, splitter='best')\n",
      "\n",
      "\n",
      "0.8787878787878788\n",
      "                 precision    recall  f1-score   support\n",
      "\n",
      "    Iris-setosa       1.00      1.00      1.00        11\n",
      "Iris-versicolor       0.88      0.70      0.78        10\n",
      " Iris-virginica       0.79      0.92      0.85        12\n",
      "\n",
      "       accuracy                           0.88        33\n",
      "      macro avg       0.89      0.87      0.87        33\n",
      "   weighted avg       0.88      0.88      0.88        33\n",
      "\n",
      "[[11  0  0]\n",
      " [ 0  7  3]\n",
      " [ 0  1 11]]\n",
      "\n",
      "\n",
      "\n",
      "\n",
      "KNeighborsClassifier(algorithm='auto', leaf_size=30, metric='minkowski',\n",
      "                     metric_params=None, n_jobs=None, n_neighbors=5, p=2,\n",
      "                     weights='uniform')\n",
      "\n",
      "\n",
      "0.9090909090909091\n",
      "                 precision    recall  f1-score   support\n",
      "\n",
      "    Iris-setosa       0.91      1.00      0.95        10\n",
      "Iris-versicolor       0.88      0.78      0.82         9\n",
      " Iris-virginica       0.93      0.93      0.93        14\n",
      "\n",
      "       accuracy                           0.91        33\n",
      "      macro avg       0.90      0.90      0.90        33\n",
      "   weighted avg       0.91      0.91      0.91        33\n",
      "\n",
      "[[10  0  0]\n",
      " [ 1  7  1]\n",
      " [ 0  1 13]]\n",
      "\n",
      "\n",
      "\n",
      "\n",
      "SVC(C=1.0, cache_size=200, class_weight=None, coef0=0.0,\n",
      "    decision_function_shape='ovr', degree=3, gamma='auto_deprecated',\n",
      "    kernel='poly', max_iter=-1, probability=False, random_state=None,\n",
      "    shrinking=True, tol=0.001, verbose=False)\n",
      "\n",
      "\n",
      "0.8787878787878788\n",
      "                 precision    recall  f1-score   support\n",
      "\n",
      "    Iris-setosa       1.00      1.00      1.00        11\n",
      "Iris-versicolor       1.00      0.67      0.80        12\n",
      " Iris-virginica       0.71      1.00      0.83        10\n",
      "\n",
      "       accuracy                           0.88        33\n",
      "      macro avg       0.90      0.89      0.88        33\n",
      "   weighted avg       0.91      0.88      0.88        33\n",
      "\n",
      "[[11  0  0]\n",
      " [ 0  8  4]\n",
      " [ 0  0 10]]\n",
      "\n",
      "\n",
      "\n",
      "\n",
      "SVC(C=1.0, cache_size=200, class_weight=None, coef0=0.0,\n",
      "    decision_function_shape='ovr', degree=3, gamma='auto_deprecated',\n",
      "    kernel='rbf', max_iter=-1, probability=False, random_state=None,\n",
      "    shrinking=True, tol=0.001, verbose=False)\n",
      "\n",
      "\n",
      "0.9393939393939394\n",
      "                 precision    recall  f1-score   support\n",
      "\n",
      "    Iris-setosa       1.00      1.00      1.00        11\n",
      "Iris-versicolor       0.88      0.88      0.88         8\n",
      " Iris-virginica       0.93      0.93      0.93        14\n",
      "\n",
      "       accuracy                           0.94        33\n",
      "      macro avg       0.93      0.93      0.93        33\n",
      "   weighted avg       0.94      0.94      0.94        33\n",
      "\n",
      "[[11  0  0]\n",
      " [ 0  7  1]\n",
      " [ 0  1 13]]\n",
      "\n",
      "\n",
      "\n",
      "\n",
      "MultinomialNB(alpha=1.0, class_prior=None, fit_prior=True)\n",
      "\n",
      "\n"
     ]
    },
    {
     "ename": "ValueError",
     "evalue": "Input X must be non-negative",
     "output_type": "error",
     "traceback": [
      "\u001b[1;31m---------------------------------------------------------------------------\u001b[0m",
      "\u001b[1;31mValueError\u001b[0m                                Traceback (most recent call last)",
      "\u001b[1;32m<ipython-input-115-fb9640b805d5>\u001b[0m in \u001b[0;36m<module>\u001b[1;34m\u001b[0m\n\u001b[0;32m      2\u001b[0m         \u001b[0mprint\u001b[0m\u001b[1;33m(\u001b[0m\u001b[0mstr\u001b[0m\u001b[1;33m(\u001b[0m\u001b[0mm\u001b[0m\u001b[1;33m)\u001b[0m\u001b[1;33m)\u001b[0m\u001b[1;33m\u001b[0m\u001b[1;33m\u001b[0m\u001b[0m\n\u001b[0;32m      3\u001b[0m         \u001b[0mprint\u001b[0m\u001b[1;33m(\u001b[0m\u001b[1;34m'\\n'\u001b[0m\u001b[1;33m)\u001b[0m\u001b[1;33m\u001b[0m\u001b[1;33m\u001b[0m\u001b[0m\n\u001b[1;32m----> 4\u001b[1;33m         \u001b[0mm\u001b[0m\u001b[1;33m.\u001b[0m\u001b[0mfit\u001b[0m\u001b[1;33m(\u001b[0m\u001b[0mp_train\u001b[0m\u001b[1;33m,\u001b[0m\u001b[0mq_train\u001b[0m\u001b[1;33m)\u001b[0m\u001b[1;33m\u001b[0m\u001b[1;33m\u001b[0m\u001b[0m\n\u001b[0m\u001b[0;32m      5\u001b[0m         \u001b[0mq\u001b[0m\u001b[1;33m=\u001b[0m\u001b[0mm\u001b[0m\u001b[1;33m.\u001b[0m\u001b[0mpredict\u001b[0m\u001b[1;33m(\u001b[0m\u001b[0mp_test\u001b[0m\u001b[1;33m)\u001b[0m\u001b[1;33m\u001b[0m\u001b[1;33m\u001b[0m\u001b[0m\n\u001b[0;32m      6\u001b[0m         \u001b[0mprint\u001b[0m\u001b[1;33m(\u001b[0m\u001b[0maccuracy_score\u001b[0m\u001b[1;33m(\u001b[0m\u001b[0mq\u001b[0m\u001b[1;33m,\u001b[0m\u001b[0mq_test\u001b[0m\u001b[1;33m)\u001b[0m\u001b[1;33m)\u001b[0m\u001b[1;33m\u001b[0m\u001b[1;33m\u001b[0m\u001b[0m\n",
      "\u001b[1;32m~\\Anaconda3\\lib\\site-packages\\sklearn\\naive_bayes.py\u001b[0m in \u001b[0;36mfit\u001b[1;34m(self, X, y, sample_weight)\u001b[0m\n\u001b[0;32m    611\u001b[0m         self.feature_count_ = np.zeros((n_effective_classes, n_features),\n\u001b[0;32m    612\u001b[0m                                        dtype=np.float64)\n\u001b[1;32m--> 613\u001b[1;33m         \u001b[0mself\u001b[0m\u001b[1;33m.\u001b[0m\u001b[0m_count\u001b[0m\u001b[1;33m(\u001b[0m\u001b[0mX\u001b[0m\u001b[1;33m,\u001b[0m \u001b[0mY\u001b[0m\u001b[1;33m)\u001b[0m\u001b[1;33m\u001b[0m\u001b[1;33m\u001b[0m\u001b[0m\n\u001b[0m\u001b[0;32m    614\u001b[0m         \u001b[0malpha\u001b[0m \u001b[1;33m=\u001b[0m \u001b[0mself\u001b[0m\u001b[1;33m.\u001b[0m\u001b[0m_check_alpha\u001b[0m\u001b[1;33m(\u001b[0m\u001b[1;33m)\u001b[0m\u001b[1;33m\u001b[0m\u001b[1;33m\u001b[0m\u001b[0m\n\u001b[0;32m    615\u001b[0m         \u001b[0mself\u001b[0m\u001b[1;33m.\u001b[0m\u001b[0m_update_feature_log_prob\u001b[0m\u001b[1;33m(\u001b[0m\u001b[0malpha\u001b[0m\u001b[1;33m)\u001b[0m\u001b[1;33m\u001b[0m\u001b[1;33m\u001b[0m\u001b[0m\n",
      "\u001b[1;32m~\\Anaconda3\\lib\\site-packages\\sklearn\\naive_bayes.py\u001b[0m in \u001b[0;36m_count\u001b[1;34m(self, X, Y)\u001b[0m\n\u001b[0;32m    718\u001b[0m         \u001b[1;34m\"\"\"Count and smooth feature occurrences.\"\"\"\u001b[0m\u001b[1;33m\u001b[0m\u001b[1;33m\u001b[0m\u001b[0m\n\u001b[0;32m    719\u001b[0m         \u001b[1;32mif\u001b[0m \u001b[0mnp\u001b[0m\u001b[1;33m.\u001b[0m\u001b[0many\u001b[0m\u001b[1;33m(\u001b[0m\u001b[1;33m(\u001b[0m\u001b[0mX\u001b[0m\u001b[1;33m.\u001b[0m\u001b[0mdata\u001b[0m \u001b[1;32mif\u001b[0m \u001b[0missparse\u001b[0m\u001b[1;33m(\u001b[0m\u001b[0mX\u001b[0m\u001b[1;33m)\u001b[0m \u001b[1;32melse\u001b[0m \u001b[0mX\u001b[0m\u001b[1;33m)\u001b[0m \u001b[1;33m<\u001b[0m \u001b[1;36m0\u001b[0m\u001b[1;33m)\u001b[0m\u001b[1;33m:\u001b[0m\u001b[1;33m\u001b[0m\u001b[1;33m\u001b[0m\u001b[0m\n\u001b[1;32m--> 720\u001b[1;33m             \u001b[1;32mraise\u001b[0m \u001b[0mValueError\u001b[0m\u001b[1;33m(\u001b[0m\u001b[1;34m\"Input X must be non-negative\"\u001b[0m\u001b[1;33m)\u001b[0m\u001b[1;33m\u001b[0m\u001b[1;33m\u001b[0m\u001b[0m\n\u001b[0m\u001b[0;32m    721\u001b[0m         \u001b[0mself\u001b[0m\u001b[1;33m.\u001b[0m\u001b[0mfeature_count_\u001b[0m \u001b[1;33m+=\u001b[0m \u001b[0msafe_sparse_dot\u001b[0m\u001b[1;33m(\u001b[0m\u001b[0mY\u001b[0m\u001b[1;33m.\u001b[0m\u001b[0mT\u001b[0m\u001b[1;33m,\u001b[0m \u001b[0mX\u001b[0m\u001b[1;33m)\u001b[0m\u001b[1;33m\u001b[0m\u001b[1;33m\u001b[0m\u001b[0m\n\u001b[0;32m    722\u001b[0m         \u001b[0mself\u001b[0m\u001b[1;33m.\u001b[0m\u001b[0mclass_count_\u001b[0m \u001b[1;33m+=\u001b[0m \u001b[0mY\u001b[0m\u001b[1;33m.\u001b[0m\u001b[0msum\u001b[0m\u001b[1;33m(\u001b[0m\u001b[0maxis\u001b[0m\u001b[1;33m=\u001b[0m\u001b[1;36m0\u001b[0m\u001b[1;33m)\u001b[0m\u001b[1;33m\u001b[0m\u001b[1;33m\u001b[0m\u001b[0m\n",
      "\u001b[1;31mValueError\u001b[0m: Input X must be non-negative"
     ]
    }
   ],
   "source": [
    "for m in model_list:\n",
    "        print(str(m))\n",
    "        print('\\n')\n",
    "        m.fit(p_train,q_train)\n",
    "        q=m.predict(p_test)\n",
    "        print(accuracy_score(q,q_test))\n",
    "        print(classification_report(q,q_test))\n",
    "        print(confusion_matrix(q,q_test))\n",
    "        print('\\n')\n",
    "        print('\\n')"
   ]
  },
  {
   "cell_type": "markdown",
   "metadata": {},
   "source": [
    "the accuracy scores are better for iris data, \n",
    "\n",
    "standard scaling didn't improve the results\n",
    "\n",
    "Also, MultinomialNB only takes non-negative inputs so it showed an error"
   ]
  },
  {
   "cell_type": "markdown",
   "metadata": {},
   "source": [
    "# Check for over-fitting and under-fitting"
   ]
  },
  {
   "cell_type": "code",
   "execution_count": 118,
   "metadata": {},
   "outputs": [],
   "source": [
    "from sklearn.model_selection import cross_val_score, cross_val_predict"
   ]
  },
  {
   "cell_type": "code",
   "execution_count": 117,
   "metadata": {},
   "outputs": [],
   "source": [
    "model_list=[DecisionTreeClassifier(criterion='gini'), DecisionTreeClassifier(criterion='entropy'),\n",
    "            KNeighborsClassifier(), \n",
    "            SVC(kernel='poly'), SVC(kernel='rbf'), MultinomialNB()]"
   ]
  },
  {
   "cell_type": "code",
   "execution_count": 130,
   "metadata": {},
   "outputs": [
    {
     "name": "stdout",
     "output_type": "stream",
     "text": [
      "cv=  5\n",
      "\n",
      "\n",
      "DecisionTreeClassifier(class_weight=None, criterion='gini', max_depth=None,\n",
      "                       max_features=None, max_leaf_nodes=None,\n",
      "                       min_impurity_decrease=0.0, min_impurity_split=None,\n",
      "                       min_samples_leaf=1, min_samples_split=2,\n",
      "                       min_weight_fraction_leaf=0.0, presort=False,\n",
      "                       random_state=None, splitter='best')\n",
      "\n",
      "\n",
      "[0.96666667 0.96666667 0.9        0.96666667 1.        ]\n",
      "\n",
      "\n",
      "0.9600000000000002 0.03265986323710903\n",
      "\n",
      "\n",
      "0.959731543624161\n",
      "                 precision    recall  f1-score   support\n",
      "\n",
      "    Iris-setosa       1.00      1.00      1.00        49\n",
      "Iris-versicolor       0.96      0.92      0.94        52\n",
      " Iris-virginica       0.92      0.96      0.94        48\n",
      "\n",
      "       accuracy                           0.96       149\n",
      "      macro avg       0.96      0.96      0.96       149\n",
      "   weighted avg       0.96      0.96      0.96       149\n",
      "\n",
      "[[49  0  0]\n",
      " [ 0 48  4]\n",
      " [ 0  2 46]]\n",
      "\n",
      "\n",
      "\n",
      "\n",
      "DecisionTreeClassifier(class_weight=None, criterion='entropy', max_depth=None,\n",
      "                       max_features=None, max_leaf_nodes=None,\n",
      "                       min_impurity_decrease=0.0, min_impurity_split=None,\n",
      "                       min_samples_leaf=1, min_samples_split=2,\n",
      "                       min_weight_fraction_leaf=0.0, presort=False,\n",
      "                       random_state=None, splitter='best')\n",
      "\n",
      "\n",
      "[0.96666667 0.96666667 0.9        0.93333333 1.        ]\n",
      "\n",
      "\n",
      "0.9533333333333334 0.03399346342395189\n",
      "\n",
      "\n",
      "0.959731543624161\n",
      "                 precision    recall  f1-score   support\n",
      "\n",
      "    Iris-setosa       1.00      1.00      1.00        49\n",
      "Iris-versicolor       0.94      0.94      0.94        50\n",
      " Iris-virginica       0.94      0.94      0.94        50\n",
      "\n",
      "       accuracy                           0.96       149\n",
      "      macro avg       0.96      0.96      0.96       149\n",
      "   weighted avg       0.96      0.96      0.96       149\n",
      "\n",
      "[[49  0  0]\n",
      " [ 0 47  3]\n",
      " [ 0  3 47]]\n",
      "\n",
      "\n",
      "\n",
      "\n",
      "KNeighborsClassifier(algorithm='auto', leaf_size=30, metric='minkowski',\n",
      "                     metric_params=None, n_jobs=None, n_neighbors=5, p=2,\n",
      "                     weights='uniform')\n",
      "\n",
      "\n",
      "[0.96666667 1.         0.93333333 0.96666667 1.        ]\n",
      "\n",
      "\n",
      "0.9733333333333334 0.02494438257849294\n",
      "\n",
      "\n",
      "0.9731543624161074\n",
      "                 precision    recall  f1-score   support\n",
      "\n",
      "    Iris-setosa       1.00      1.00      1.00        49\n",
      "Iris-versicolor       0.94      0.98      0.96        48\n",
      " Iris-virginica       0.98      0.94      0.96        52\n",
      "\n",
      "       accuracy                           0.97       149\n",
      "      macro avg       0.97      0.97      0.97       149\n",
      "   weighted avg       0.97      0.97      0.97       149\n",
      "\n",
      "[[49  0  0]\n",
      " [ 0 47  1]\n",
      " [ 0  3 49]]\n",
      "\n",
      "\n",
      "\n",
      "\n",
      "SVC(C=1.0, cache_size=200, class_weight=None, coef0=0.0,\n",
      "    decision_function_shape='ovr', degree=3, gamma='auto_deprecated',\n",
      "    kernel='poly', max_iter=-1, probability=False, random_state=None,\n",
      "    shrinking=True, tol=0.001, verbose=False)\n",
      "\n",
      "\n",
      "[1.         1.         0.9        0.93333333 1.        ]\n",
      "\n",
      "\n",
      "0.9666666666666666 0.04216370213557838\n",
      "\n",
      "\n",
      "0.9664429530201343\n",
      "                 precision    recall  f1-score   support\n",
      "\n",
      "    Iris-setosa       1.00      1.00      1.00        49\n",
      "Iris-versicolor       0.92      0.98      0.95        47\n",
      " Iris-virginica       0.98      0.92      0.95        53\n",
      "\n",
      "       accuracy                           0.97       149\n",
      "      macro avg       0.97      0.97      0.97       149\n",
      "   weighted avg       0.97      0.97      0.97       149\n",
      "\n",
      "[[49  0  0]\n",
      " [ 0 46  1]\n",
      " [ 0  4 49]]\n",
      "\n",
      "\n",
      "\n",
      "\n",
      "SVC(C=1.0, cache_size=200, class_weight=None, coef0=0.0,\n",
      "    decision_function_shape='ovr', degree=3, gamma='auto_deprecated',\n",
      "    kernel='rbf', max_iter=-1, probability=False, random_state=None,\n",
      "    shrinking=True, tol=0.001, verbose=False)\n",
      "\n",
      "\n",
      "[0.96666667 1.         0.96666667 0.96666667 1.        ]\n",
      "\n",
      "\n",
      "0.9800000000000001 0.016329931618554516\n",
      "\n",
      "\n",
      "0.9798657718120806\n",
      "                 precision    recall  f1-score   support\n",
      "\n",
      "    Iris-setosa       1.00      1.00      1.00        49\n",
      "Iris-versicolor       0.96      0.98      0.97        49\n",
      " Iris-virginica       0.98      0.96      0.97        51\n",
      "\n",
      "       accuracy                           0.98       149\n",
      "      macro avg       0.98      0.98      0.98       149\n",
      "   weighted avg       0.98      0.98      0.98       149\n",
      "\n",
      "[[49  0  0]\n",
      " [ 0 48  1]\n",
      " [ 0  2 49]]\n",
      "\n",
      "\n",
      "\n",
      "\n",
      "MultinomialNB(alpha=1.0, class_prior=None, fit_prior=True)\n",
      "\n",
      "\n",
      "[1.         0.96666667 0.9        0.9        1.        ]\n",
      "\n",
      "\n",
      "0.9533333333333334 0.04521553322083511\n",
      "\n",
      "\n",
      "0.9530201342281879\n",
      "                 precision    recall  f1-score   support\n",
      "\n",
      "    Iris-setosa       1.00      1.00      1.00        49\n",
      "Iris-versicolor       0.92      0.94      0.93        49\n",
      " Iris-virginica       0.94      0.92      0.93        51\n",
      "\n",
      "       accuracy                           0.95       149\n",
      "      macro avg       0.95      0.95      0.95       149\n",
      "   weighted avg       0.95      0.95      0.95       149\n",
      "\n",
      "[[49  0  0]\n",
      " [ 0 46  3]\n",
      " [ 0  4 47]]\n",
      "\n",
      "\n",
      "\n",
      "\n",
      "cv=  6\n",
      "\n",
      "\n",
      "DecisionTreeClassifier(class_weight=None, criterion='gini', max_depth=None,\n",
      "                       max_features=None, max_leaf_nodes=None,\n",
      "                       min_impurity_decrease=0.0, min_impurity_split=None,\n",
      "                       min_samples_leaf=1, min_samples_split=2,\n",
      "                       min_weight_fraction_leaf=0.0, presort=False,\n",
      "                       random_state=None, splitter='best')\n",
      "\n",
      "\n",
      "[0.96296296 1.         0.91666667 0.91666667 0.95833333 1.        ]\n",
      "\n",
      "\n",
      "0.9591049382716048 0.034064413664574265\n",
      "\n",
      "\n",
      "0.959731543624161\n",
      "                 precision    recall  f1-score   support\n",
      "\n",
      "    Iris-setosa       1.00      1.00      1.00        49\n",
      "Iris-versicolor       0.94      0.94      0.94        50\n",
      " Iris-virginica       0.94      0.94      0.94        50\n",
      "\n",
      "       accuracy                           0.96       149\n",
      "      macro avg       0.96      0.96      0.96       149\n",
      "   weighted avg       0.96      0.96      0.96       149\n",
      "\n",
      "[[49  0  0]\n",
      " [ 0 47  3]\n",
      " [ 0  3 47]]\n",
      "\n",
      "\n",
      "\n",
      "\n",
      "DecisionTreeClassifier(class_weight=None, criterion='entropy', max_depth=None,\n",
      "                       max_features=None, max_leaf_nodes=None,\n",
      "                       min_impurity_decrease=0.0, min_impurity_split=None,\n",
      "                       min_samples_leaf=1, min_samples_split=2,\n",
      "                       min_weight_fraction_leaf=0.0, presort=False,\n",
      "                       random_state=None, splitter='best')\n",
      "\n",
      "\n",
      "[0.96296296 1.         0.91666667 0.91666667 0.95833333 1.        ]\n",
      "\n",
      "\n",
      "0.9591049382716048 0.034064413664574265\n",
      "\n",
      "\n",
      "0.959731543624161\n",
      "                 precision    recall  f1-score   support\n",
      "\n",
      "    Iris-setosa       1.00      1.00      1.00        49\n",
      "Iris-versicolor       0.94      0.94      0.94        50\n",
      " Iris-virginica       0.94      0.94      0.94        50\n",
      "\n",
      "       accuracy                           0.96       149\n",
      "      macro avg       0.96      0.96      0.96       149\n",
      "   weighted avg       0.96      0.96      0.96       149\n",
      "\n",
      "[[49  0  0]\n",
      " [ 0 47  3]\n",
      " [ 0  3 47]]\n",
      "\n",
      "\n",
      "\n",
      "\n",
      "KNeighborsClassifier(algorithm='auto', leaf_size=30, metric='minkowski',\n",
      "                     metric_params=None, n_jobs=None, n_neighbors=5, p=2,\n",
      "                     weights='uniform')\n",
      "\n",
      "\n",
      "[0.96296296 1.         0.91666667 0.91666667 1.         1.        ]\n",
      "\n",
      "\n",
      "0.9660493827160493 0.03729335177035364\n",
      "\n",
      "\n",
      "0.9664429530201343\n",
      "                 precision    recall  f1-score   support\n",
      "\n",
      "    Iris-setosa       1.00      1.00      1.00        49\n",
      "Iris-versicolor       0.92      0.98      0.95        47\n",
      " Iris-virginica       0.98      0.92      0.95        53\n",
      "\n",
      "       accuracy                           0.97       149\n",
      "      macro avg       0.97      0.97      0.97       149\n",
      "   weighted avg       0.97      0.97      0.97       149\n",
      "\n",
      "[[49  0  0]\n",
      " [ 0 46  1]\n",
      " [ 0  4 49]]\n",
      "\n",
      "\n",
      "\n",
      "\n",
      "SVC(C=1.0, cache_size=200, class_weight=None, coef0=0.0,\n",
      "    decision_function_shape='ovr', degree=3, gamma='auto_deprecated',\n",
      "    kernel='poly', max_iter=-1, probability=False, random_state=None,\n",
      "    shrinking=True, tol=0.001, verbose=False)\n",
      "\n",
      "\n",
      "[1.         1.         0.95833333 0.91666667 1.         1.        ]\n",
      "\n",
      "\n",
      "0.9791666666666666 0.03182344232608224\n",
      "\n",
      "\n",
      "0.9798657718120806\n",
      "                 precision    recall  f1-score   support\n",
      "\n",
      "    Iris-setosa       1.00      1.00      1.00        49\n",
      "Iris-versicolor       0.96      0.98      0.97        49\n",
      " Iris-virginica       0.98      0.96      0.97        51\n",
      "\n",
      "       accuracy                           0.98       149\n",
      "      macro avg       0.98      0.98      0.98       149\n",
      "   weighted avg       0.98      0.98      0.98       149\n",
      "\n",
      "[[49  0  0]\n",
      " [ 0 48  1]\n",
      " [ 0  2 49]]\n",
      "\n",
      "\n",
      "\n",
      "\n",
      "SVC(C=1.0, cache_size=200, class_weight=None, coef0=0.0,\n",
      "    decision_function_shape='ovr', degree=3, gamma='auto_deprecated',\n",
      "    kernel='rbf', max_iter=-1, probability=False, random_state=None,\n",
      "    shrinking=True, tol=0.001, verbose=False)\n",
      "\n",
      "\n",
      "[0.96296296 1.         1.         0.91666667 1.         1.        ]\n",
      "\n",
      "\n",
      "0.9799382716049383 0.03136173060632961\n",
      "\n",
      "\n",
      "0.9798657718120806\n",
      "                 precision    recall  f1-score   support\n",
      "\n",
      "    Iris-setosa       1.00      1.00      1.00        49\n",
      "Iris-versicolor       0.96      0.98      0.97        49\n",
      " Iris-virginica       0.98      0.96      0.97        51\n",
      "\n",
      "       accuracy                           0.98       149\n",
      "      macro avg       0.98      0.98      0.98       149\n",
      "   weighted avg       0.98      0.98      0.98       149\n",
      "\n",
      "[[49  0  0]\n",
      " [ 0 48  1]\n",
      " [ 0  2 49]]\n",
      "\n",
      "\n",
      "\n",
      "\n",
      "MultinomialNB(alpha=1.0, class_prior=None, fit_prior=True)\n",
      "\n",
      "\n",
      "[1.         1.         0.875      0.83333333 1.         1.        ]\n",
      "\n",
      "\n",
      "0.951388888888889 0.06979080292445061\n",
      "\n",
      "\n",
      "0.9530201342281879\n",
      "                 precision    recall  f1-score   support\n",
      "\n",
      "    Iris-setosa       1.00      1.00      1.00        49\n",
      "Iris-versicolor       0.92      0.94      0.93        49\n",
      " Iris-virginica       0.94      0.92      0.93        51\n",
      "\n",
      "       accuracy                           0.95       149\n",
      "      macro avg       0.95      0.95      0.95       149\n",
      "   weighted avg       0.95      0.95      0.95       149\n",
      "\n",
      "[[49  0  0]\n",
      " [ 0 46  3]\n",
      " [ 0  4 47]]\n",
      "\n",
      "\n",
      "\n",
      "\n",
      "cv=  7\n",
      "\n",
      "\n",
      "DecisionTreeClassifier(class_weight=None, criterion='gini', max_depth=None,\n",
      "                       max_features=None, max_leaf_nodes=None,\n",
      "                       min_impurity_decrease=0.0, min_impurity_split=None,\n",
      "                       min_samples_leaf=1, min_samples_split=2,\n",
      "                       min_weight_fraction_leaf=0.0, presort=False,\n",
      "                       random_state=None, splitter='best')\n",
      "\n",
      "\n",
      "[0.95652174 1.         0.9047619  0.85714286 0.95238095 1.\n",
      " 1.        ]\n",
      "\n",
      "\n",
      "0.9529724933451641 0.05092752026035111\n",
      "\n",
      "\n",
      "0.9530201342281879\n",
      "                 precision    recall  f1-score   support\n",
      "\n",
      "    Iris-setosa       1.00      1.00      1.00        49\n",
      "Iris-versicolor       0.90      0.96      0.93        47\n",
      " Iris-virginica       0.96      0.91      0.93        53\n",
      "\n",
      "       accuracy                           0.95       149\n",
      "      macro avg       0.95      0.95      0.95       149\n",
      "   weighted avg       0.95      0.95      0.95       149\n",
      "\n",
      "[[49  0  0]\n",
      " [ 0 45  2]\n",
      " [ 0  5 48]]\n",
      "\n",
      "\n",
      "\n",
      "\n",
      "DecisionTreeClassifier(class_weight=None, criterion='entropy', max_depth=None,\n",
      "                       max_features=None, max_leaf_nodes=None,\n",
      "                       min_impurity_decrease=0.0, min_impurity_split=None,\n",
      "                       min_samples_leaf=1, min_samples_split=2,\n",
      "                       min_weight_fraction_leaf=0.0, presort=False,\n",
      "                       random_state=None, splitter='best')\n",
      "\n",
      "\n"
     ]
    },
    {
     "name": "stdout",
     "output_type": "stream",
     "text": [
      "[0.95652174 1.         0.9047619  0.85714286 0.95238095 1.\n",
      " 1.        ]\n",
      "\n",
      "\n",
      "0.9529724933451641 0.05092752026035111\n",
      "\n",
      "\n",
      "0.9530201342281879\n",
      "                 precision    recall  f1-score   support\n",
      "\n",
      "    Iris-setosa       1.00      1.00      1.00        49\n",
      "Iris-versicolor       0.90      0.96      0.93        47\n",
      " Iris-virginica       0.96      0.91      0.93        53\n",
      "\n",
      "       accuracy                           0.95       149\n",
      "      macro avg       0.95      0.95      0.95       149\n",
      "   weighted avg       0.95      0.95      0.95       149\n",
      "\n",
      "[[49  0  0]\n",
      " [ 0 45  2]\n",
      " [ 0  5 48]]\n",
      "\n",
      "\n",
      "\n",
      "\n",
      "KNeighborsClassifier(algorithm='auto', leaf_size=30, metric='minkowski',\n",
      "                     metric_params=None, n_jobs=None, n_neighbors=5, p=2,\n",
      "                     weights='uniform')\n",
      "\n",
      "\n",
      "[0.95652174 1.         0.95238095 0.9047619  0.95238095 1.\n",
      " 1.        ]\n",
      "\n",
      "\n",
      "0.9665779355220349 0.03311572907962947\n",
      "\n",
      "\n",
      "0.9664429530201343\n",
      "                 precision    recall  f1-score   support\n",
      "\n",
      "    Iris-setosa       1.00      1.00      1.00        49\n",
      "Iris-versicolor       0.92      0.98      0.95        47\n",
      " Iris-virginica       0.98      0.92      0.95        53\n",
      "\n",
      "       accuracy                           0.97       149\n",
      "      macro avg       0.97      0.97      0.97       149\n",
      "   weighted avg       0.97      0.97      0.97       149\n",
      "\n",
      "[[49  0  0]\n",
      " [ 0 46  1]\n",
      " [ 0  4 49]]\n",
      "\n",
      "\n",
      "\n",
      "\n",
      "SVC(C=1.0, cache_size=200, class_weight=None, coef0=0.0,\n",
      "    decision_function_shape='ovr', degree=3, gamma='auto_deprecated',\n",
      "    kernel='poly', max_iter=-1, probability=False, random_state=None,\n",
      "    shrinking=True, tol=0.001, verbose=False)\n",
      "\n",
      "\n",
      "[1.         1.         0.95238095 0.95238095 0.9047619  1.\n",
      " 1.        ]\n",
      "\n",
      "\n",
      "0.9727891156462586 0.03468720757546113\n",
      "\n",
      "\n",
      "0.9731543624161074\n",
      "                 precision    recall  f1-score   support\n",
      "\n",
      "    Iris-setosa       1.00      1.00      1.00        49\n",
      "Iris-versicolor       0.94      0.98      0.96        48\n",
      " Iris-virginica       0.98      0.94      0.96        52\n",
      "\n",
      "       accuracy                           0.97       149\n",
      "      macro avg       0.97      0.97      0.97       149\n",
      "   weighted avg       0.97      0.97      0.97       149\n",
      "\n",
      "[[49  0  0]\n",
      " [ 0 47  1]\n",
      " [ 0  3 49]]\n",
      "\n",
      "\n",
      "\n",
      "\n",
      "SVC(C=1.0, cache_size=200, class_weight=None, coef0=0.0,\n",
      "    decision_function_shape='ovr', degree=3, gamma='auto_deprecated',\n",
      "    kernel='rbf', max_iter=-1, probability=False, random_state=None,\n",
      "    shrinking=True, tol=0.001, verbose=False)\n",
      "\n",
      "\n",
      "[0.95652174 1.         0.95238095 0.95238095 0.9047619  0.95238095\n",
      " 1.        ]\n",
      "\n",
      "\n",
      "0.9597752144335996 0.03032476928240473\n",
      "\n",
      "\n",
      "0.959731543624161\n",
      "                 precision    recall  f1-score   support\n",
      "\n",
      "    Iris-setosa       1.00      1.00      1.00        49\n",
      "Iris-versicolor       0.94      0.94      0.94        50\n",
      " Iris-virginica       0.94      0.94      0.94        50\n",
      "\n",
      "       accuracy                           0.96       149\n",
      "      macro avg       0.96      0.96      0.96       149\n",
      "   weighted avg       0.96      0.96      0.96       149\n",
      "\n",
      "[[49  0  0]\n",
      " [ 0 47  3]\n",
      " [ 0  3 47]]\n",
      "\n",
      "\n",
      "\n",
      "\n",
      "MultinomialNB(alpha=1.0, class_prior=None, fit_prior=True)\n",
      "\n",
      "\n",
      "[1.         1.         0.9047619  0.95238095 0.80952381 1.\n",
      " 1.        ]\n",
      "\n",
      "\n",
      "0.9523809523809523 0.06734350297014738\n",
      "\n",
      "\n",
      "0.9530201342281879\n",
      "                 precision    recall  f1-score   support\n",
      "\n",
      "    Iris-setosa       1.00      1.00      1.00        49\n",
      "Iris-versicolor       0.92      0.94      0.93        49\n",
      " Iris-virginica       0.94      0.92      0.93        51\n",
      "\n",
      "       accuracy                           0.95       149\n",
      "      macro avg       0.95      0.95      0.95       149\n",
      "   weighted avg       0.95      0.95      0.95       149\n",
      "\n",
      "[[49  0  0]\n",
      " [ 0 46  3]\n",
      " [ 0  4 47]]\n",
      "\n",
      "\n",
      "\n",
      "\n",
      "cv=  8\n",
      "\n",
      "\n",
      "DecisionTreeClassifier(class_weight=None, criterion='gini', max_depth=None,\n",
      "                       max_features=None, max_leaf_nodes=None,\n",
      "                       min_impurity_decrease=0.0, min_impurity_split=None,\n",
      "                       min_samples_leaf=1, min_samples_split=2,\n",
      "                       min_weight_fraction_leaf=0.0, presort=False,\n",
      "                       random_state=None, splitter='best')\n",
      "\n",
      "\n",
      "[0.95238095 0.95       0.94444444 0.94444444 0.88888889 0.94444444\n",
      " 1.         1.        ]\n",
      "\n",
      "\n",
      "0.9530753968253968 0.033085429011496595\n",
      "\n",
      "\n",
      "0.9664429530201343\n",
      "                 precision    recall  f1-score   support\n",
      "\n",
      "    Iris-setosa       1.00      1.00      1.00        49\n",
      "Iris-versicolor       0.96      0.94      0.95        51\n",
      " Iris-virginica       0.94      0.96      0.95        49\n",
      "\n",
      "       accuracy                           0.97       149\n",
      "      macro avg       0.97      0.97      0.97       149\n",
      "   weighted avg       0.97      0.97      0.97       149\n",
      "\n",
      "[[49  0  0]\n",
      " [ 0 48  3]\n",
      " [ 0  2 47]]\n",
      "\n",
      "\n",
      "\n",
      "\n",
      "DecisionTreeClassifier(class_weight=None, criterion='entropy', max_depth=None,\n",
      "                       max_features=None, max_leaf_nodes=None,\n",
      "                       min_impurity_decrease=0.0, min_impurity_split=None,\n",
      "                       min_samples_leaf=1, min_samples_split=2,\n",
      "                       min_weight_fraction_leaf=0.0, presort=False,\n",
      "                       random_state=None, splitter='best')\n",
      "\n",
      "\n",
      "[0.95238095 0.95       0.94444444 0.94444444 0.88888889 0.94444444\n",
      " 0.94444444 1.        ]\n",
      "\n",
      "\n",
      "0.9461309523809524 0.02793729002106935\n",
      "\n",
      "\n",
      "0.959731543624161\n",
      "                 precision    recall  f1-score   support\n",
      "\n",
      "    Iris-setosa       1.00      1.00      1.00        49\n",
      "Iris-versicolor       0.94      0.94      0.94        50\n",
      " Iris-virginica       0.94      0.94      0.94        50\n",
      "\n",
      "       accuracy                           0.96       149\n",
      "      macro avg       0.96      0.96      0.96       149\n",
      "   weighted avg       0.96      0.96      0.96       149\n",
      "\n",
      "[[49  0  0]\n",
      " [ 0 47  3]\n",
      " [ 0  3 47]]\n",
      "\n",
      "\n",
      "\n",
      "\n",
      "KNeighborsClassifier(algorithm='auto', leaf_size=30, metric='minkowski',\n",
      "                     metric_params=None, n_jobs=None, n_neighbors=5, p=2,\n",
      "                     weights='uniform')\n",
      "\n",
      "\n",
      "[0.95238095 1.         1.         0.88888889 0.94444444 0.94444444\n",
      " 1.         1.        ]\n",
      "\n",
      "\n",
      "0.9662698412698412 0.038216984690988554\n",
      "\n",
      "\n",
      "0.9664429530201343\n",
      "                 precision    recall  f1-score   support\n",
      "\n",
      "    Iris-setosa       1.00      1.00      1.00        49\n",
      "Iris-versicolor       0.92      0.98      0.95        47\n",
      " Iris-virginica       0.98      0.92      0.95        53\n",
      "\n",
      "       accuracy                           0.97       149\n",
      "      macro avg       0.97      0.97      0.97       149\n",
      "   weighted avg       0.97      0.97      0.97       149\n",
      "\n",
      "[[49  0  0]\n",
      " [ 0 46  1]\n",
      " [ 0  4 49]]\n",
      "\n",
      "\n",
      "\n",
      "\n",
      "SVC(C=1.0, cache_size=200, class_weight=None, coef0=0.0,\n",
      "    decision_function_shape='ovr', degree=3, gamma='auto_deprecated',\n",
      "    kernel='poly', max_iter=-1, probability=False, random_state=None,\n",
      "    shrinking=True, tol=0.001, verbose=False)\n",
      "\n",
      "\n",
      "[1.         1.         1.         0.94444444 0.94444444 0.88888889\n",
      " 1.         1.        ]\n",
      "\n",
      "\n",
      "0.9722222222222222 0.039283710065919325\n",
      "\n",
      "\n",
      "0.9731543624161074\n",
      "                 precision    recall  f1-score   support\n",
      "\n",
      "    Iris-setosa       1.00      1.00      1.00        49\n",
      "Iris-versicolor       0.96      0.96      0.96        50\n",
      " Iris-virginica       0.96      0.96      0.96        50\n",
      "\n",
      "       accuracy                           0.97       149\n",
      "      macro avg       0.97      0.97      0.97       149\n",
      "   weighted avg       0.97      0.97      0.97       149\n",
      "\n",
      "[[49  0  0]\n",
      " [ 0 48  2]\n",
      " [ 0  2 48]]\n",
      "\n",
      "\n",
      "\n",
      "\n",
      "SVC(C=1.0, cache_size=200, class_weight=None, coef0=0.0,\n",
      "    decision_function_shape='ovr', degree=3, gamma='auto_deprecated',\n",
      "    kernel='rbf', max_iter=-1, probability=False, random_state=None,\n",
      "    shrinking=True, tol=0.001, verbose=False)\n",
      "\n",
      "\n",
      "[0.95238095 1.         1.         1.         0.94444444 0.94444444\n",
      " 0.94444444 1.        ]\n",
      "\n",
      "\n",
      "0.9732142857142857 0.026895717681995966\n",
      "\n",
      "\n",
      "0.9731543624161074\n",
      "                 precision    recall  f1-score   support\n",
      "\n",
      "    Iris-setosa       1.00      1.00      1.00        49\n",
      "Iris-versicolor       0.96      0.96      0.96        50\n",
      " Iris-virginica       0.96      0.96      0.96        50\n",
      "\n",
      "       accuracy                           0.97       149\n",
      "      macro avg       0.97      0.97      0.97       149\n",
      "   weighted avg       0.97      0.97      0.97       149\n",
      "\n",
      "[[49  0  0]\n",
      " [ 0 48  2]\n",
      " [ 0  2 48]]\n",
      "\n",
      "\n",
      "\n",
      "\n",
      "MultinomialNB(alpha=1.0, class_prior=None, fit_prior=True)\n",
      "\n",
      "\n",
      "[1.         1.         0.94444444 0.88888889 0.88888889 0.88888889\n",
      " 1.         1.        ]\n",
      "\n",
      "\n",
      "0.9513888888888888 0.05150137838260879\n",
      "\n",
      "\n"
     ]
    },
    {
     "name": "stdout",
     "output_type": "stream",
     "text": [
      "0.9530201342281879\n",
      "                 precision    recall  f1-score   support\n",
      "\n",
      "    Iris-setosa       1.00      1.00      1.00        49\n",
      "Iris-versicolor       0.92      0.94      0.93        49\n",
      " Iris-virginica       0.94      0.92      0.93        51\n",
      "\n",
      "       accuracy                           0.95       149\n",
      "      macro avg       0.95      0.95      0.95       149\n",
      "   weighted avg       0.95      0.95      0.95       149\n",
      "\n",
      "[[49  0  0]\n",
      " [ 0 46  3]\n",
      " [ 0  4 47]]\n",
      "\n",
      "\n",
      "\n",
      "\n",
      "cv=  9\n",
      "\n",
      "\n",
      "DecisionTreeClassifier(class_weight=None, criterion='gini', max_depth=None,\n",
      "                       max_features=None, max_leaf_nodes=None,\n",
      "                       min_impurity_decrease=0.0, min_impurity_split=None,\n",
      "                       min_samples_leaf=1, min_samples_split=2,\n",
      "                       min_weight_fraction_leaf=0.0, presort=False,\n",
      "                       random_state=None, splitter='best')\n",
      "\n",
      "\n",
      "[1.         0.94444444 1.         0.88888889 0.88235294 0.93333333\n",
      " 1.         1.         1.        ]\n",
      "\n",
      "\n",
      "0.9610021786492374 0.04717567997360698\n",
      "\n",
      "\n",
      "0.959731543624161\n",
      "                 precision    recall  f1-score   support\n",
      "\n",
      "    Iris-setosa       1.00      1.00      1.00        49\n",
      "Iris-versicolor       0.94      0.94      0.94        50\n",
      " Iris-virginica       0.94      0.94      0.94        50\n",
      "\n",
      "       accuracy                           0.96       149\n",
      "      macro avg       0.96      0.96      0.96       149\n",
      "   weighted avg       0.96      0.96      0.96       149\n",
      "\n",
      "[[49  0  0]\n",
      " [ 0 47  3]\n",
      " [ 0  3 47]]\n",
      "\n",
      "\n",
      "\n",
      "\n",
      "DecisionTreeClassifier(class_weight=None, criterion='entropy', max_depth=None,\n",
      "                       max_features=None, max_leaf_nodes=None,\n",
      "                       min_impurity_decrease=0.0, min_impurity_split=None,\n",
      "                       min_samples_leaf=1, min_samples_split=2,\n",
      "                       min_weight_fraction_leaf=0.0, presort=False,\n",
      "                       random_state=None, splitter='best')\n",
      "\n",
      "\n",
      "[1.         0.94444444 1.         0.88888889 0.88235294 0.93333333\n",
      " 0.93333333 1.         1.        ]\n",
      "\n",
      "\n",
      "0.95359477124183 0.04568103277591167\n",
      "\n",
      "\n",
      "0.9530201342281879\n",
      "                 precision    recall  f1-score   support\n",
      "\n",
      "    Iris-setosa       1.00      1.00      1.00        49\n",
      "Iris-versicolor       0.94      0.92      0.93        51\n",
      " Iris-virginica       0.92      0.94      0.93        49\n",
      "\n",
      "       accuracy                           0.95       149\n",
      "      macro avg       0.95      0.95      0.95       149\n",
      "   weighted avg       0.95      0.95      0.95       149\n",
      "\n",
      "[[49  0  0]\n",
      " [ 0 47  4]\n",
      " [ 0  3 46]]\n",
      "\n",
      "\n",
      "\n",
      "\n",
      "KNeighborsClassifier(algorithm='auto', leaf_size=30, metric='minkowski',\n",
      "                     metric_params=None, n_jobs=None, n_neighbors=5, p=2,\n",
      "                     weights='uniform')\n",
      "\n",
      "\n",
      "[1.         0.94444444 1.         0.88888889 0.94117647 0.93333333\n",
      " 1.         1.         1.        ]\n",
      "\n",
      "\n",
      "0.9675381263616557 0.03923262766474814\n",
      "\n",
      "\n",
      "0.9664429530201343\n",
      "                 precision    recall  f1-score   support\n",
      "\n",
      "    Iris-setosa       1.00      1.00      1.00        49\n",
      "Iris-versicolor       0.92      0.98      0.95        47\n",
      " Iris-virginica       0.98      0.92      0.95        53\n",
      "\n",
      "       accuracy                           0.97       149\n",
      "      macro avg       0.97      0.97      0.97       149\n",
      "   weighted avg       0.97      0.97      0.97       149\n",
      "\n",
      "[[49  0  0]\n",
      " [ 0 46  1]\n",
      " [ 0  4 49]]\n",
      "\n",
      "\n",
      "\n",
      "\n",
      "SVC(C=1.0, cache_size=200, class_weight=None, coef0=0.0,\n",
      "    decision_function_shape='ovr', degree=3, gamma='auto_deprecated',\n",
      "    kernel='poly', max_iter=-1, probability=False, random_state=None,\n",
      "    shrinking=True, tol=0.001, verbose=False)\n",
      "\n",
      "\n",
      "[1.         1.         1.         0.94444444 0.94117647 0.86666667\n",
      " 1.         1.         1.        ]\n",
      "\n",
      "\n",
      "0.9724763979665939 0.04410400224126952\n",
      "\n",
      "\n",
      "0.9731543624161074\n",
      "                 precision    recall  f1-score   support\n",
      "\n",
      "    Iris-setosa       1.00      1.00      1.00        49\n",
      "Iris-versicolor       0.96      0.96      0.96        50\n",
      " Iris-virginica       0.96      0.96      0.96        50\n",
      "\n",
      "       accuracy                           0.97       149\n",
      "      macro avg       0.97      0.97      0.97       149\n",
      "   weighted avg       0.97      0.97      0.97       149\n",
      "\n",
      "[[49  0  0]\n",
      " [ 0 48  2]\n",
      " [ 0  2 48]]\n",
      "\n",
      "\n",
      "\n",
      "\n",
      "SVC(C=1.0, cache_size=200, class_weight=None, coef0=0.0,\n",
      "    decision_function_shape='ovr', degree=3, gamma='auto_deprecated',\n",
      "    kernel='rbf', max_iter=-1, probability=False, random_state=None,\n",
      "    shrinking=True, tol=0.001, verbose=False)\n",
      "\n",
      "\n",
      "[1.         0.94444444 1.         1.         0.94117647 0.93333333\n",
      " 1.         1.         1.        ]\n",
      "\n",
      "\n",
      "0.9798838053740015 0.028575669981273963\n",
      "\n",
      "\n",
      "0.9798657718120806\n",
      "                 precision    recall  f1-score   support\n",
      "\n",
      "    Iris-setosa       1.00      1.00      1.00        49\n",
      "Iris-versicolor       0.96      0.98      0.97        49\n",
      " Iris-virginica       0.98      0.96      0.97        51\n",
      "\n",
      "       accuracy                           0.98       149\n",
      "      macro avg       0.98      0.98      0.98       149\n",
      "   weighted avg       0.98      0.98      0.98       149\n",
      "\n",
      "[[49  0  0]\n",
      " [ 0 48  1]\n",
      " [ 0  2 49]]\n",
      "\n",
      "\n",
      "\n",
      "\n",
      "MultinomialNB(alpha=1.0, class_prior=None, fit_prior=True)\n",
      "\n",
      "\n",
      "[1.         1.         1.         0.83333333 0.94117647 0.8\n",
      " 1.         1.         1.        ]\n",
      "\n",
      "\n",
      "0.952723311546841 0.07536740966046926\n",
      "\n",
      "\n",
      "0.9530201342281879\n",
      "                 precision    recall  f1-score   support\n",
      "\n",
      "    Iris-setosa       1.00      1.00      1.00        49\n",
      "Iris-versicolor       0.92      0.94      0.93        49\n",
      " Iris-virginica       0.94      0.92      0.93        51\n",
      "\n",
      "       accuracy                           0.95       149\n",
      "      macro avg       0.95      0.95      0.95       149\n",
      "   weighted avg       0.95      0.95      0.95       149\n",
      "\n",
      "[[49  0  0]\n",
      " [ 0 46  3]\n",
      " [ 0  4 47]]\n",
      "\n",
      "\n",
      "\n",
      "\n",
      "cv=  10\n",
      "\n",
      "\n",
      "DecisionTreeClassifier(class_weight=None, criterion='gini', max_depth=None,\n",
      "                       max_features=None, max_leaf_nodes=None,\n",
      "                       min_impurity_decrease=0.0, min_impurity_split=None,\n",
      "                       min_samples_leaf=1, min_samples_split=2,\n",
      "                       min_weight_fraction_leaf=0.0, presort=False,\n",
      "                       random_state=None, splitter='best')\n",
      "\n",
      "\n",
      "[1.         0.93333333 1.         0.93333333 0.93333333 0.86666667\n",
      " 0.93333333 0.93333333 1.         1.        ]\n",
      "\n",
      "\n",
      "0.9533333333333334 0.04268749491621898\n",
      "\n",
      "\n",
      "0.959731543624161\n",
      "                 precision    recall  f1-score   support\n",
      "\n",
      "    Iris-setosa       1.00      1.00      1.00        49\n",
      "Iris-versicolor       0.94      0.94      0.94        50\n",
      " Iris-virginica       0.94      0.94      0.94        50\n",
      "\n",
      "       accuracy                           0.96       149\n",
      "      macro avg       0.96      0.96      0.96       149\n",
      "   weighted avg       0.96      0.96      0.96       149\n",
      "\n",
      "[[49  0  0]\n",
      " [ 0 47  3]\n",
      " [ 0  3 47]]\n",
      "\n",
      "\n",
      "\n",
      "\n",
      "DecisionTreeClassifier(class_weight=None, criterion='entropy', max_depth=None,\n",
      "                       max_features=None, max_leaf_nodes=None,\n",
      "                       min_impurity_decrease=0.0, min_impurity_split=None,\n",
      "                       min_samples_leaf=1, min_samples_split=2,\n",
      "                       min_weight_fraction_leaf=0.0, presort=False,\n",
      "                       random_state=None, splitter='best')\n",
      "\n",
      "\n",
      "[1.         0.93333333 1.         0.93333333 0.93333333 0.86666667\n",
      " 0.93333333 0.93333333 1.         1.        ]\n",
      "\n",
      "\n",
      "0.9533333333333334 0.04268749491621898\n",
      "\n",
      "\n",
      "0.959731543624161\n",
      "                 precision    recall  f1-score   support\n",
      "\n",
      "    Iris-setosa       1.00      1.00      1.00        49\n",
      "Iris-versicolor       0.94      0.94      0.94        50\n",
      " Iris-virginica       0.94      0.94      0.94        50\n",
      "\n",
      "       accuracy                           0.96       149\n",
      "      macro avg       0.96      0.96      0.96       149\n",
      "   weighted avg       0.96      0.96      0.96       149\n",
      "\n",
      "[[49  0  0]\n",
      " [ 0 47  3]\n",
      " [ 0  3 47]]\n",
      "\n",
      "\n",
      "\n",
      "\n",
      "KNeighborsClassifier(algorithm='auto', leaf_size=30, metric='minkowski',\n",
      "                     metric_params=None, n_jobs=None, n_neighbors=5, p=2,\n",
      "                     weights='uniform')\n",
      "\n",
      "\n",
      "[1.         0.93333333 1.         1.         0.86666667 0.93333333\n",
      " 0.93333333 1.         1.         1.        ]\n",
      "\n",
      "\n",
      "0.9666666666666668 0.04472135954999579\n",
      "\n",
      "\n",
      "0.9664429530201343\n",
      "                 precision    recall  f1-score   support\n",
      "\n",
      "    Iris-setosa       1.00      1.00      1.00        49\n",
      "Iris-versicolor       0.92      0.98      0.95        47\n",
      " Iris-virginica       0.98      0.92      0.95        53\n",
      "\n",
      "       accuracy                           0.97       149\n",
      "      macro avg       0.97      0.97      0.97       149\n",
      "   weighted avg       0.97      0.97      0.97       149\n",
      "\n",
      "[[49  0  0]\n",
      " [ 0 46  1]\n",
      " [ 0  4 49]]\n",
      "\n",
      "\n",
      "\n",
      "\n",
      "SVC(C=1.0, cache_size=200, class_weight=None, coef0=0.0,\n",
      "    decision_function_shape='ovr', degree=3, gamma='auto_deprecated',\n",
      "    kernel='poly', max_iter=-1, probability=False, random_state=None,\n",
      "    shrinking=True, tol=0.001, verbose=False)\n",
      "\n",
      "\n"
     ]
    },
    {
     "name": "stdout",
     "output_type": "stream",
     "text": [
      "[1.         1.         1.         1.         0.93333333 0.93333333\n",
      " 0.86666667 1.         1.         1.        ]\n",
      "\n",
      "\n",
      "0.9733333333333334 0.04422166387140532\n",
      "\n",
      "\n",
      "0.9731543624161074\n",
      "                 precision    recall  f1-score   support\n",
      "\n",
      "    Iris-setosa       1.00      1.00      1.00        49\n",
      "Iris-versicolor       0.96      0.96      0.96        50\n",
      " Iris-virginica       0.96      0.96      0.96        50\n",
      "\n",
      "       accuracy                           0.97       149\n",
      "      macro avg       0.97      0.97      0.97       149\n",
      "   weighted avg       0.97      0.97      0.97       149\n",
      "\n",
      "[[49  0  0]\n",
      " [ 0 48  2]\n",
      " [ 0  2 48]]\n",
      "\n",
      "\n",
      "\n",
      "\n",
      "SVC(C=1.0, cache_size=200, class_weight=None, coef0=0.0,\n",
      "    decision_function_shape='ovr', degree=3, gamma='auto_deprecated',\n",
      "    kernel='rbf', max_iter=-1, probability=False, random_state=None,\n",
      "    shrinking=True, tol=0.001, verbose=False)\n",
      "\n",
      "\n",
      "[1.         0.93333333 1.         1.         1.         0.93333333\n",
      " 0.93333333 1.         1.         1.        ]\n",
      "\n",
      "\n",
      "0.9800000000000001 0.030550504633038926\n",
      "\n",
      "\n",
      "0.9798657718120806\n",
      "                 precision    recall  f1-score   support\n",
      "\n",
      "    Iris-setosa       1.00      1.00      1.00        49\n",
      "Iris-versicolor       0.96      0.98      0.97        49\n",
      " Iris-virginica       0.98      0.96      0.97        51\n",
      "\n",
      "       accuracy                           0.98       149\n",
      "      macro avg       0.98      0.98      0.98       149\n",
      "   weighted avg       0.98      0.98      0.98       149\n",
      "\n",
      "[[49  0  0]\n",
      " [ 0 48  1]\n",
      " [ 0  2 49]]\n",
      "\n",
      "\n",
      "\n",
      "\n",
      "MultinomialNB(alpha=1.0, class_prior=None, fit_prior=True)\n",
      "\n",
      "\n",
      "[1.         1.         1.         0.93333333 0.86666667 0.93333333\n",
      " 0.8        1.         1.         1.        ]\n",
      "\n",
      "\n",
      "0.9533333333333334 0.06699917080747259\n",
      "\n",
      "\n",
      "0.9530201342281879\n",
      "                 precision    recall  f1-score   support\n",
      "\n",
      "    Iris-setosa       1.00      1.00      1.00        49\n",
      "Iris-versicolor       0.92      0.94      0.93        49\n",
      " Iris-virginica       0.94      0.92      0.93        51\n",
      "\n",
      "       accuracy                           0.95       149\n",
      "      macro avg       0.95      0.95      0.95       149\n",
      "   weighted avg       0.95      0.95      0.95       149\n",
      "\n",
      "[[49  0  0]\n",
      " [ 0 46  3]\n",
      " [ 0  4 47]]\n",
      "\n",
      "\n",
      "\n",
      "\n"
     ]
    }
   ],
   "source": [
    "for i in range(5,11):\n",
    "    print(\"cv= \", i)\n",
    "    print('\\n')\n",
    "    for m in model_list:\n",
    "        print(str(m))\n",
    "        print('\\n')\n",
    "        score=cross_val_score(m, x, y, cv=i)\n",
    "        print(score)\n",
    "        print('\\n')\n",
    "        print(score.mean(), score.std())\n",
    "        print('\\n')\n",
    "        q=cross_val_predict(m, x, y, cv=i)\n",
    "        print(accuracy_score(q,y))\n",
    "        print(classification_report(q,y))\n",
    "        print(confusion_matrix(q,y))\n",
    "        print('\\n')\n",
    "        print('\\n')"
   ]
  },
  {
   "cell_type": "markdown",
   "metadata": {},
   "source": [
    "the best score is .9798 in svc rbf at cv=5"
   ]
  },
  {
   "cell_type": "code",
   "execution_count": 121,
   "metadata": {},
   "outputs": [],
   "source": [
    "svc=SVC(kernel='poly')"
   ]
  },
  {
   "cell_type": "code",
   "execution_count": 123,
   "metadata": {},
   "outputs": [
    {
     "data": {
      "text/plain": [
       "(149, 4)"
      ]
     },
     "execution_count": 123,
     "metadata": {},
     "output_type": "execute_result"
    }
   ],
   "source": [
    "x.shape"
   ]
  },
  {
   "cell_type": "code",
   "execution_count": 124,
   "metadata": {},
   "outputs": [
    {
     "data": {
      "text/plain": [
       "(33,)"
      ]
     },
     "execution_count": 124,
     "metadata": {},
     "output_type": "execute_result"
    }
   ],
   "source": [
    "y.shape"
   ]
  },
  {
   "cell_type": "code",
   "execution_count": 126,
   "metadata": {},
   "outputs": [],
   "source": [
    "y=iris.iloc[:,-1]"
   ]
  },
  {
   "cell_type": "code",
   "execution_count": 127,
   "metadata": {},
   "outputs": [
    {
     "data": {
      "text/plain": [
       "(149,)"
      ]
     },
     "execution_count": 127,
     "metadata": {},
     "output_type": "execute_result"
    }
   ],
   "source": [
    "y.shape"
   ]
  },
  {
   "cell_type": "code",
   "execution_count": 133,
   "metadata": {},
   "outputs": [
    {
     "name": "stdout",
     "output_type": "stream",
     "text": [
      "neighbors=  5\n",
      "[0.96666667 1.         0.93333333 0.96666667 1.        ]\n",
      "\n",
      "\n",
      "0.9733333333333334 0.02494438257849294\n",
      "\n",
      "\n",
      "0.9731543624161074\n",
      "                 precision    recall  f1-score   support\n",
      "\n",
      "    Iris-setosa       1.00      1.00      1.00        49\n",
      "Iris-versicolor       0.94      0.98      0.96        48\n",
      " Iris-virginica       0.98      0.94      0.96        52\n",
      "\n",
      "       accuracy                           0.97       149\n",
      "      macro avg       0.97      0.97      0.97       149\n",
      "   weighted avg       0.97      0.97      0.97       149\n",
      "\n",
      "[[49  0  0]\n",
      " [ 0 47  1]\n",
      " [ 0  3 49]]\n",
      "neighbors=  6\n",
      "[0.96666667 1.         0.96666667 0.96666667 1.        ]\n",
      "\n",
      "\n",
      "0.9800000000000001 0.016329931618554516\n",
      "\n",
      "\n",
      "0.9798657718120806\n",
      "                 precision    recall  f1-score   support\n",
      "\n",
      "    Iris-setosa       1.00      1.00      1.00        49\n",
      "Iris-versicolor       0.98      0.96      0.97        51\n",
      " Iris-virginica       0.96      0.98      0.97        49\n",
      "\n",
      "       accuracy                           0.98       149\n",
      "      macro avg       0.98      0.98      0.98       149\n",
      "   weighted avg       0.98      0.98      0.98       149\n",
      "\n",
      "[[49  0  0]\n",
      " [ 0 49  2]\n",
      " [ 0  1 48]]\n",
      "neighbors=  7\n",
      "[0.96666667 1.         0.96666667 0.96666667 1.        ]\n",
      "\n",
      "\n",
      "0.9800000000000001 0.016329931618554516\n",
      "\n",
      "\n",
      "0.9798657718120806\n",
      "                 precision    recall  f1-score   support\n",
      "\n",
      "    Iris-setosa       1.00      1.00      1.00        49\n",
      "Iris-versicolor       0.96      0.98      0.97        49\n",
      " Iris-virginica       0.98      0.96      0.97        51\n",
      "\n",
      "       accuracy                           0.98       149\n",
      "      macro avg       0.98      0.98      0.98       149\n",
      "   weighted avg       0.98      0.98      0.98       149\n",
      "\n",
      "[[49  0  0]\n",
      " [ 0 48  1]\n",
      " [ 0  2 49]]\n",
      "neighbors=  8\n",
      "[0.96666667 1.         0.93333333 0.93333333 1.        ]\n",
      "\n",
      "\n",
      "0.9666666666666668 0.029814239699997188\n",
      "\n",
      "\n",
      "0.9664429530201343\n",
      "                 precision    recall  f1-score   support\n",
      "\n",
      "    Iris-setosa       1.00      1.00      1.00        49\n",
      "Iris-versicolor       0.96      0.94      0.95        51\n",
      " Iris-virginica       0.94      0.96      0.95        49\n",
      "\n",
      "       accuracy                           0.97       149\n",
      "      macro avg       0.97      0.97      0.97       149\n",
      "   weighted avg       0.97      0.97      0.97       149\n",
      "\n",
      "[[49  0  0]\n",
      " [ 0 48  3]\n",
      " [ 0  2 47]]\n",
      "neighbors=  9\n",
      "[0.96666667 1.         0.96666667 0.93333333 1.        ]\n",
      "\n",
      "\n",
      "0.9733333333333334 0.02494438257849294\n",
      "\n",
      "\n",
      "0.9731543624161074\n",
      "                 precision    recall  f1-score   support\n",
      "\n",
      "    Iris-setosa       1.00      1.00      1.00        49\n",
      "Iris-versicolor       0.96      0.96      0.96        50\n",
      " Iris-virginica       0.96      0.96      0.96        50\n",
      "\n",
      "       accuracy                           0.97       149\n",
      "      macro avg       0.97      0.97      0.97       149\n",
      "   weighted avg       0.97      0.97      0.97       149\n",
      "\n",
      "[[49  0  0]\n",
      " [ 0 48  2]\n",
      " [ 0  2 48]]\n",
      "neighbors=  10\n",
      "[0.96666667 1.         1.         0.93333333 1.        ]\n",
      "\n",
      "\n",
      "0.9800000000000001 0.02666666666666666\n",
      "\n",
      "\n",
      "0.9798657718120806\n",
      "                 precision    recall  f1-score   support\n",
      "\n",
      "    Iris-setosa       1.00      1.00      1.00        49\n",
      "Iris-versicolor       0.98      0.96      0.97        51\n",
      " Iris-virginica       0.96      0.98      0.97        49\n",
      "\n",
      "       accuracy                           0.98       149\n",
      "      macro avg       0.98      0.98      0.98       149\n",
      "   weighted avg       0.98      0.98      0.98       149\n",
      "\n",
      "[[49  0  0]\n",
      " [ 0 49  2]\n",
      " [ 0  1 48]]\n",
      "neighbors=  11\n",
      "[0.93333333 1.         1.         0.96666667 1.        ]\n",
      "\n",
      "\n",
      "0.9800000000000001 0.02666666666666666\n",
      "\n",
      "\n",
      "0.9798657718120806\n",
      "                 precision    recall  f1-score   support\n",
      "\n",
      "    Iris-setosa       1.00      1.00      1.00        49\n",
      "Iris-versicolor       0.96      0.98      0.97        49\n",
      " Iris-virginica       0.98      0.96      0.97        51\n",
      "\n",
      "       accuracy                           0.98       149\n",
      "      macro avg       0.98      0.98      0.98       149\n",
      "   weighted avg       0.98      0.98      0.98       149\n",
      "\n",
      "[[49  0  0]\n",
      " [ 0 48  1]\n",
      " [ 0  2 49]]\n",
      "neighbors=  12\n",
      "[0.93333333 1.         1.         0.96666667 1.        ]\n",
      "\n",
      "\n",
      "0.9800000000000001 0.02666666666666666\n",
      "\n",
      "\n",
      "0.9798657718120806\n",
      "                 precision    recall  f1-score   support\n",
      "\n",
      "    Iris-setosa       1.00      1.00      1.00        49\n",
      "Iris-versicolor       0.96      0.98      0.97        49\n",
      " Iris-virginica       0.98      0.96      0.97        51\n",
      "\n",
      "       accuracy                           0.98       149\n",
      "      macro avg       0.98      0.98      0.98       149\n",
      "   weighted avg       0.98      0.98      0.98       149\n",
      "\n",
      "[[49  0  0]\n",
      " [ 0 48  1]\n",
      " [ 0  2 49]]\n",
      "neighbors=  13\n",
      "[0.93333333 1.         0.96666667 0.96666667 1.        ]\n",
      "\n",
      "\n",
      "0.9733333333333334 0.02494438257849294\n",
      "\n",
      "\n",
      "0.9731543624161074\n",
      "                 precision    recall  f1-score   support\n",
      "\n",
      "    Iris-setosa       1.00      1.00      1.00        49\n",
      "Iris-versicolor       0.94      0.98      0.96        48\n",
      " Iris-virginica       0.98      0.94      0.96        52\n",
      "\n",
      "       accuracy                           0.97       149\n",
      "      macro avg       0.97      0.97      0.97       149\n",
      "   weighted avg       0.97      0.97      0.97       149\n",
      "\n",
      "[[49  0  0]\n",
      " [ 0 47  1]\n",
      " [ 0  3 49]]\n",
      "neighbors=  14\n",
      "[0.93333333 1.         0.96666667 0.93333333 1.        ]\n",
      "\n",
      "\n",
      "0.9666666666666666 0.029814239699997188\n",
      "\n",
      "\n",
      "0.9664429530201343\n",
      "                 precision    recall  f1-score   support\n",
      "\n",
      "    Iris-setosa       1.00      1.00      1.00        49\n",
      "Iris-versicolor       0.94      0.96      0.95        49\n",
      " Iris-virginica       0.96      0.94      0.95        51\n",
      "\n",
      "       accuracy                           0.97       149\n",
      "      macro avg       0.97      0.97      0.97       149\n",
      "   weighted avg       0.97      0.97      0.97       149\n",
      "\n",
      "[[49  0  0]\n",
      " [ 0 47  2]\n",
      " [ 0  3 48]]\n"
     ]
    }
   ],
   "source": [
    "for i in range(5,15):\n",
    "        score=cross_val_score(KNeighborsClassifier(n_neighbors=i), x, y, cv=5)\n",
    "        print(\"neighbors= \", i)\n",
    "        print(score)\n",
    "        print('\\n')\n",
    "        print(score.mean(), score.std())\n",
    "        print('\\n')\n",
    "        q=cross_val_predict(KNeighborsClassifier(n_neighbors=i), x, y, cv=5)\n",
    "        print(accuracy_score(q,y))\n",
    "        print(classification_report(q,y))\n",
    "        print(confusion_matrix(q,y))"
   ]
  },
  {
   "cell_type": "markdown",
   "metadata": {},
   "source": [
    "the best model so far are KNN at cv=5 and n=6 and svc rbf at cv=5"
   ]
  },
  {
   "cell_type": "markdown",
   "metadata": {},
   "source": [
    "# Saving the model"
   ]
  },
  {
   "cell_type": "code",
   "execution_count": 134,
   "metadata": {},
   "outputs": [
    {
     "name": "stderr",
     "output_type": "stream",
     "text": [
      "C:\\Users\\dell\\Anaconda3\\lib\\site-packages\\sklearn\\externals\\joblib\\__init__.py:15: DeprecationWarning: sklearn.externals.joblib is deprecated in 0.21 and will be removed in 0.23. Please import this functionality directly from joblib, which can be installed with: pip install joblib. If this warning is raised when loading pickled models, you may need to re-serialize those models with scikit-learn 0.21+.\n",
      "  warnings.warn(msg, category=DeprecationWarning)\n"
     ]
    }
   ],
   "source": [
    "from sklearn.externals import joblib\n",
    "svcrbf=SVC(kernel='rbf')\n",
    "cross_val_score(svcrbf,x,y,cv=5)\n",
    "model=joblib.dump(svcrbf, 'svcrbf.obj')"
   ]
  },
  {
   "cell_type": "code",
   "execution_count": 137,
   "metadata": {},
   "outputs": [],
   "source": [
    "import pickle\n",
    "knn_5=KNeighborsClassifier(n_neighbors=5)\n",
    "cross_val_score(KNeighborsClassifier(n_neighbors=5), x, y, cv=5)\n",
    "saved_model=pickle.dumps(knn_5)"
   ]
  },
  {
   "cell_type": "code",
   "execution_count": null,
   "metadata": {},
   "outputs": [],
   "source": []
  }
 ],
 "metadata": {
  "kernelspec": {
   "display_name": "Python 3",
   "language": "python",
   "name": "python3"
  },
  "language_info": {
   "codemirror_mode": {
    "name": "ipython",
    "version": 3
   },
   "file_extension": ".py",
   "mimetype": "text/x-python",
   "name": "python",
   "nbconvert_exporter": "python",
   "pygments_lexer": "ipython3",
   "version": "3.7.4"
  }
 },
 "nbformat": 4,
 "nbformat_minor": 2
}
